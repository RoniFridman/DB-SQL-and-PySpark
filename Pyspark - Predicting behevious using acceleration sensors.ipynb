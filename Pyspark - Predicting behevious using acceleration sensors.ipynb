{
  "nbformat": 4,
  "nbformat_minor": 0,
  "metadata": {
    "colab": {
      "provenance": [],
      "collapsed_sections": []
    },
    "kernelspec": {
      "name": "python3",
      "display_name": "Python 3"
    },
    "language_info": {
      "name": "python"
    }
  },
  "cells": [
    {
      "cell_type": "code",
      "execution_count": null,
      "metadata": {
        "id": "ReH7amZPCk5w",
        "colab": {
          "base_uri": "https://localhost:8080/"
        },
        "outputId": "fe9b0e64-23e6-4e0f-fc84-64bdca613690"
      },
      "outputs": [
        {
          "output_type": "stream",
          "name": "stdout",
          "text": [
            "Looking in indexes: https://pypi.org/simple, https://us-python.pkg.dev/colab-wheels/public/simple/\n",
            "Collecting findspark\n",
            "  Downloading findspark-2.0.1-py2.py3-none-any.whl (4.4 kB)\n",
            "Installing collected packages: findspark\n",
            "Successfully installed findspark-2.0.1\n",
            "Looking in indexes: https://pypi.org/simple, https://us-python.pkg.dev/colab-wheels/public/simple/\n",
            "Collecting pyspark\n",
            "  Downloading pyspark-3.3.0.tar.gz (281.3 MB)\n",
            "\u001b[K     |████████████████████████████████| 281.3 MB 43 kB/s \n",
            "\u001b[?25hCollecting py4j==0.10.9.5\n",
            "  Downloading py4j-0.10.9.5-py2.py3-none-any.whl (199 kB)\n",
            "\u001b[K     |████████████████████████████████| 199 kB 53.7 MB/s \n",
            "\u001b[?25hBuilding wheels for collected packages: pyspark\n",
            "  Building wheel for pyspark (setup.py) ... \u001b[?25l\u001b[?25hdone\n",
            "  Created wheel for pyspark: filename=pyspark-3.3.0-py2.py3-none-any.whl size=281764026 sha256=2534e37551865b930e307abced79079b12cfb7861ca9e3028b5837f1631622bd\n",
            "  Stored in directory: /root/.cache/pip/wheels/7a/8e/1b/f73a52650d2e5f337708d9f6a1750d451a7349a867f928b885\n",
            "Successfully built pyspark\n",
            "Installing collected packages: py4j, pyspark\n",
            "Successfully installed py4j-0.10.9.5 pyspark-3.3.0\n"
          ]
        }
      ],
      "source": [
        "!pip install findspark\n",
        "!pip install pyspark"
      ]
    },
    {
      "cell_type": "code",
      "source": [
        "from google.colab import drive\n",
        "drive.mount('/content/drive')"
      ],
      "metadata": {
        "colab": {
          "base_uri": "https://localhost:8080/"
        },
        "id": "ZuN-71mQ99mv",
        "outputId": "5f379b8c-ba49-4d9d-cbde-ecc5c2e620ea"
      },
      "execution_count": null,
      "outputs": [
        {
          "output_type": "stream",
          "name": "stdout",
          "text": [
            "Mounted at /content/drive\n"
          ]
        }
      ]
    },
    {
      "cell_type": "code",
      "source": [
        "import os\n",
        "import findspark\n",
        "findspark.init()\n",
        "from pyspark.sql import SparkSession\n",
        "from pyspark.sql import functions as f\n",
        "from pyspark import ml\n",
        "from pyspark import mllib\n",
        "from pyspark.ml.linalg import Vectors\n",
        "from pyspark.ml.feature import StringIndexer\n",
        "from pyspark.ml.feature import OneHotEncoder\n",
        "from pyspark.ml.feature import VectorAssembler\n",
        "from pyspark.ml import Pipeline\n",
        "from pyspark.ml.classification import LogisticRegression"
      ],
      "metadata": {
        "id": "PJEE8USRd22o"
      },
      "execution_count": null,
      "outputs": []
    },
    {
      "cell_type": "code",
      "source": [
        "def init_spark(app_name: str):\n",
        "  spark = SparkSession.builder.appName(app_name).getOrCreate()\n",
        "  sc = spark.sparkContext\n",
        "  return spark, sc\n",
        "\n",
        "spark, sc = init_spark('demo')\n",
        "sc"
      ],
      "metadata": {
        "id": "taak5LizFCCE",
        "colab": {
          "base_uri": "https://localhost:8080/",
          "height": 196
        },
        "outputId": "a786f965-5072-46f3-a7d7-a2820b1a87ee"
      },
      "execution_count": null,
      "outputs": [
        {
          "output_type": "execute_result",
          "data": {
            "text/plain": [
              "<SparkContext master=local[*] appName=demo>"
            ],
            "text/html": [
              "\n",
              "        <div>\n",
              "            <p><b>SparkContext</b></p>\n",
              "\n",
              "            <p><a href=\"http://548cce465fd8:4040\">Spark UI</a></p>\n",
              "\n",
              "            <dl>\n",
              "              <dt>Version</dt>\n",
              "                <dd><code>v3.3.0</code></dd>\n",
              "              <dt>Master</dt>\n",
              "                <dd><code>local[*]</code></dd>\n",
              "              <dt>AppName</dt>\n",
              "                <dd><code>demo</code></dd>\n",
              "            </dl>\n",
              "        </div>\n",
              "        "
            ]
          },
          "metadata": {},
          "execution_count": 4
        }
      ]
    },
    {
      "cell_type": "code",
      "source": [
        "dataPath_hw = \"/content/drive/MyDrive/data.json\"\n",
        "\n",
        "data_df = spark.read.format(\"json\")\\\n",
        "  .option(\"header\",\"true\")\\\n",
        "  .option(\"escape\", \"\\\"\")\\\n",
        "  .option(\"inferSchema\", \"true\")\\\n",
        "  .load(dataPath_hw)"
      ],
      "metadata": {
        "id": "VcH5CGRu_P6S"
      },
      "execution_count": null,
      "outputs": []
    },
    {
      "cell_type": "markdown",
      "source": [
        "Model Creation"
      ],
      "metadata": {
        "id": "509p2yX3goyv"
      }
    },
    {
      "cell_type": "markdown",
      "source": [
        "Pipeline(With NULL label):"
      ],
      "metadata": {
        "id": "NgvQfPL5gxTy"
      }
    },
    {
      "cell_type": "code",
      "source": [
        "transformer_pipeline = Pipeline(stages=[\n",
        "    StringIndexer(inputCols=[\"Model\", \"Device\",'gt', 'User'],\\\n",
        "                  outputCols=[\"Model_idx\", \"Device_idx\", \"gt_idx\", 'User_idx']),\n",
        "    OneHotEncoder(inputCol=\"Device_idx\", outputCol=\"Device_vec\"),\n",
        "    OneHotEncoder(inputCol=\"User_idx\", outputCol=\"User_vec\"),\n",
        "    VectorAssembler(inputCols=[\"Device_vec\",\"Arrival_Time\", \"Creation_Time\", \"Index\", 'User_vec','x','y','z'], outputCol=\"features\")\n",
        "])\n",
        "model = transformer_pipeline.fit(data_df)\n",
        "train_set, test_set = model.transform(data_df).randomSplit([0.7,0.3], seed = 33)"
      ],
      "metadata": {
        "id": "JuMhiVzHgzLp"
      },
      "execution_count": null,
      "outputs": []
    },
    {
      "cell_type": "markdown",
      "source": [
        "Pipeline (No NULL label):"
      ],
      "metadata": {
        "id": "4bvRu0g_0d1L"
      }
    },
    {
      "cell_type": "code",
      "source": [
        "data_df_nn = data_df.select('*').where(f.col('gt')!='null')\n",
        "\n",
        "transformer_pipeline = Pipeline(stages=[\n",
        "    StringIndexer(inputCols=[\"Model\", \"Device\",'gt', 'User'],\\\n",
        "                  outputCols=[\"Model_idx\", \"Device_idx\", \"gt_idx\", 'User_idx']),\n",
        "    OneHotEncoder(inputCol=\"Device_idx\", outputCol=\"Device_vec\"),\n",
        "    OneHotEncoder(inputCol=\"User_idx\", outputCol=\"User_vec\"),\n",
        "    VectorAssembler(inputCols=[\"Device_vec\", \"Index\", 'User_vec','x','y','z'], outputCol=\"features\")\n",
        "])\n",
        "model = transformer_pipeline.fit(data_df_nn)\n",
        "train_set, test_set = model.transform(data_df_nn).randomSplit([0.7,0.3], seed = 33)"
      ],
      "metadata": {
        "id": "oniqVsvq0dWb"
      },
      "execution_count": null,
      "outputs": []
    },
    {
      "cell_type": "markdown",
      "source": [
        "Train model:"
      ],
      "metadata": {
        "id": "dxPl-4cjmGce"
      }
    },
    {
      "cell_type": "code",
      "source": [
        "from pyspark.ml.classification import DecisionTreeClassifier\n",
        "from pyspark.ml.classification import RandomForestClassifier\n",
        "m = 30\n",
        "dt = DecisionTreeClassifier(labelCol=\"gt_idx\",featuresCol=\"features\", maxDepth=m)\n",
        "fittedDT = dt.fit(train_set)"
      ],
      "metadata": {
        "id": "Wsp3Pckl7sIv"
      },
      "execution_count": null,
      "outputs": []
    },
    {
      "cell_type": "markdown",
      "source": [
        "evaluate:"
      ],
      "metadata": {
        "id": "MeJmS2g6vD-o"
      }
    },
    {
      "cell_type": "code",
      "source": [
        "from pyspark.ml.evaluation import MulticlassClassificationEvaluator\n",
        "evaluator=MulticlassClassificationEvaluator(labelCol='gt_idx',predictionCol=\"prediction\")\n",
        "pred_dt_test = fittedDT.transform(test_set)\n",
        "print(f'Decision Tree Accuracy Testset: {evaluator.evaluate(pred_dt_test)}')"
      ],
      "metadata": {
        "colab": {
          "base_uri": "https://localhost:8080/"
        },
        "id": "kuYMaJUhpg8p",
        "outputId": "0ca816c3-d97e-4c7e-fb83-0711b3f568a4"
      },
      "execution_count": null,
      "outputs": [
        {
          "output_type": "stream",
          "name": "stdout",
          "text": [
            "Decision Tree Accuracy Testset: 0.9442948737770059\n"
          ]
        }
      ]
    },
    {
      "cell_type": "markdown",
      "source": [
        "No NULL label:"
      ],
      "metadata": {
        "id": "qCI8Cfr-1u9Z"
      }
    },
    {
      "cell_type": "code",
      "source": [
        "import matplotlib.pyplot as plt\n",
        "import pandas as pd\n",
        "import seaborn as sn\n",
        "from pyspark.mllib.evaluation import MulticlassMetrics\n",
        "\n",
        "pred_list = pred_dt_test.select('gt_idx', 'prediction')\n",
        "metrics = MulticlassMetrics(pred_list.rdd.map(tuple))\n",
        "df_cm = pd.DataFrame(metrics.confusionMatrix().toArray(), index = [i for i in range(6)],\n",
        "                  columns = [i for i in range(6)])\n",
        "plt.figure(figsize = (10,7))\n",
        "sn.heatmap(df_cm, annot=True, fmt='.7g')"
      ],
      "metadata": {
        "colab": {
          "base_uri": "https://localhost:8080/",
          "height": 500
        },
        "id": "XMvK6PomwmF2",
        "outputId": "c470bf65-8051-45cd-9e0b-83ddf0b0bc17"
      },
      "execution_count": null,
      "outputs": [
        {
          "output_type": "stream",
          "name": "stderr",
          "text": [
            "/usr/local/lib/python3.7/dist-packages/pyspark/sql/context.py:159: FutureWarning: Deprecated in 3.0.0. Use SparkSession.builder.getOrCreate() instead.\n",
            "  FutureWarning,\n"
          ]
        },
        {
          "output_type": "execute_result",
          "data": {
            "text/plain": [
              "<matplotlib.axes._subplots.AxesSubplot at 0x7fdd4a883490>"
            ]
          },
          "metadata": {},
          "execution_count": 84
        },
        {
          "output_type": "display_data",
          "data": {
            "text/plain": [
              "<Figure size 720x504 with 2 Axes>"
            ],
            "image/png": "[encoded data removed]"
          },
          "metadata": {
            "needs_background": "light"
          }
        }
      ]
    },
    {
      "cell_type": "code",
      "source": [
        "test_set.select('gt','gt_idx').distinct().show()"
      ],
      "metadata": {
        "colab": {
          "base_uri": "https://localhost:8080/"
        },
        "id": "QM8iT_7h37Ci",
        "outputId": "93a232d2-cc87-4f46-cd9c-c254ddd38f4b"
      },
      "execution_count": null,
      "outputs": [
        {
          "output_type": "stream",
          "name": "stdout",
          "text": [
            "+----------+------+\n",
            "|        gt|gt_idx|\n",
            "+----------+------+\n",
            "|      walk|   0.0|\n",
            "|       sit|   1.0|\n",
            "|stairsdown|   5.0|\n",
            "|      bike|   3.0|\n",
            "|  stairsup|   4.0|\n",
            "|     stand|   2.0|\n",
            "+----------+------+\n",
            "\n"
          ]
        }
      ]
    },
    {
      "cell_type": "markdown",
      "source": [
        "With NULL label:"
      ],
      "metadata": {
        "id": "4Z_KN5f_1q5i"
      }
    },
    {
      "cell_type": "code",
      "source": [
        "import matplotlib.pyplot as plt\n",
        "import pandas as pd\n",
        "import seaborn as sn\n",
        "from pyspark.mllib.evaluation import MulticlassMetrics\n",
        "\n",
        "pred_list = pred_dt_test.select('gt_idx', 'prediction')\n",
        "metrics = MulticlassMetrics(pred_list.rdd.map(tuple))\n",
        "df_cm_2 = pd.DataFrame(metrics.confusionMatrix().toArray(), index = [i for i in range(7)],\n",
        "                  columns = [i for i in range(7)])\n",
        "plt.figure(figsize = (10,7))\n",
        "sn.heatmap(df_cm_2, annot=True, fmt='.7g')"
      ],
      "metadata": {
        "colab": {
          "base_uri": "https://localhost:8080/",
          "height": 500
        },
        "id": "Eioeghhs1qfJ",
        "outputId": "129743b3-6c50-46c6-ae0d-6b3123ec74a8"
      },
      "execution_count": null,
      "outputs": [
        {
          "output_type": "stream",
          "name": "stderr",
          "text": [
            "/usr/local/lib/python3.7/dist-packages/pyspark/sql/context.py:159: FutureWarning: Deprecated in 3.0.0. Use SparkSession.builder.getOrCreate() instead.\n",
            "  FutureWarning,\n"
          ]
        },
        {
          "output_type": "execute_result",
          "data": {
            "text/plain": [
              "<matplotlib.axes._subplots.AxesSubplot at 0x7fdd4e559910>"
            ]
          },
          "metadata": {},
          "execution_count": 89
        },
        {
          "output_type": "display_data",
          "data": {
            "text/plain": [
              "<Figure size 720x504 with 2 Axes>"
            ],
            "image/png": "[encoded data removed]"
          },
          "metadata": {
            "needs_background": "light"
          }
        }
      ]
    },
    {
      "cell_type": "code",
      "source": [
        "test_set.select('gt','gt_idx').distinct().show()"
      ],
      "metadata": {
        "colab": {
          "base_uri": "https://localhost:8080/"
        },
        "id": "C2XuUi_Zxgq2",
        "outputId": "c6e8ac01-8fa6-458f-a308-6b26096d2ab0"
      },
      "execution_count": null,
      "outputs": [
        {
          "output_type": "stream",
          "name": "stdout",
          "text": [
            "+----------+------+\n",
            "|        gt|gt_idx|\n",
            "+----------+------+\n",
            "|      walk|   0.0|\n",
            "|       sit|   1.0|\n",
            "|      null|   5.0|\n",
            "|      bike|   3.0|\n",
            "|stairsdown|   6.0|\n",
            "|  stairsup|   4.0|\n",
            "|     stand|   2.0|\n",
            "+----------+------+\n",
            "\n"
          ]
        }
      ]
    },
    {
      "cell_type": "code",
      "source": [
        "dataPath_full = \"/content/drive/MyDrive/Phones_accelerometer.csv\"\n",
        "\n",
        "data_full = spark.read.format(\"csv\")\\\n",
        "  .option(\"header\",\"true\")\\\n",
        "  .option(\"escape\", \"\\\"\")\\\n",
        "  .option(\"inferSchema\", \"true\")\\\n",
        "  .load(dataPath_full)"
      ],
      "metadata": {
        "id": "VhTX55K9NK9r"
      },
      "execution_count": null,
      "outputs": []
    },
    {
      "cell_type": "code",
      "source": [
        "transformer_pipeline = Pipeline(stages=[\n",
        "    StringIndexer(inputCols=[\"Model\", \"Device\",'gt', 'User'],\\\n",
        "                  outputCols=[\"Model_idx\", \"Device_idx\", \"gt_idx\", 'User_idx']),\n",
        "    OneHotEncoder(inputCol=\"Device_idx\", outputCol=\"Device_vec\"),\n",
        "    OneHotEncoder(inputCol=\"User_idx\", outputCol=\"User_vec\"),\n",
        "    VectorAssembler(inputCols=[\"Device_vec\",\"Arrival_Time\", \"Creation_Time\", \"Index\", 'User_vec','x','y','z'], outputCol=\"features\")\n",
        "])\n",
        "model = transformer_pipeline.fit(data_full)\n",
        "train_set_f, test_set_f = model.transform(data_full).randomSplit([0.1,0.9], seed = 33)\n"
      ],
      "metadata": {
        "id": "RiIWQS3JNazW"
      },
      "execution_count": null,
      "outputs": []
    },
    {
      "cell_type": "code",
      "source": [
        "from pyspark.ml.classification import DecisionTreeClassifier\n",
        "from pyspark.ml.classification import RandomForestClassifier\n",
        "m = 30\n",
        "dt = DecisionTreeClassifier(labelCol=\"gt_idx\",featuresCol=\"features\", maxDepth=m)\n",
        "fittedDT = dt.fit(train_set_f)"
      ],
      "metadata": {
        "id": "hcnXtRI8N1gX"
      },
      "execution_count": null,
      "outputs": []
    },
    {
      "cell_type": "code",
      "source": [
        "from pyspark.ml.evaluation import MulticlassClassificationEvaluator\n",
        "evaluator=MulticlassClassificationEvaluator(labelCol='gt_idx',predictionCol=\"prediction\")\n",
        "pred_dt_test = fittedDT.transform(test_set_f)\n",
        "print(f'Decision Tree Accuracy Testset: {evaluator.evaluate(pred_dt_test)}')"
      ],
      "metadata": {
        "id": "vtUSI5XtOFOE"
      },
      "execution_count": null,
      "outputs": []
    },
    {
      "cell_type": "code",
      "source": [
        "import matplotlib.pyplot as plt\n",
        "import pandas as pd\n",
        "import seaborn as sn\n",
        "from pyspark.mllib.evaluation import MulticlassMetrics\n",
        "\n",
        "pred_list = pred_dt_test.select('gt_idx', 'prediction')\n",
        "metrics = MulticlassMetrics(pred_list.rdd.map(tuple))\n",
        "df_cm_2 = pd.DataFrame(metrics.confusionMatrix().toArray(), index = [i for i in range(7)],\n",
        "                  columns = [i for i in range(7)])\n",
        "plt.figure(figsize = (10,7))\n",
        "sn.heatmap(df_cm_2, annot=True, fmt='.7g')"
      ],
      "metadata": {
        "id": "KVZaTZq7O90X"
      },
      "execution_count": null,
      "outputs": []
    },
    {
      "cell_type": "code",
      "source": [
        "transformer_pipeline = Pipeline(stages=[\n",
        "    StringIndexer(inputCols=[\"Model\", \"Device\",'gt', 'User'],\\\n",
        "                  outputCols=[\"Model_idx\", \"Device_idx\", \"gt_idx\", 'User_idx']),\n",
        "    OneHotEncoder(inputCol=\"Device_idx\", outputCol=\"Device_vec\"),\n",
        "    OneHotEncoder(inputCol=\"User_idx\", outputCol=\"User_vec\"),\n",
        "    VectorAssembler(inputCols=[\"Device_vec\",\"Arrival_Time\", \"Creation_Time\", \"Index\", 'User_vec','x','y','z'], outputCol=\"features\")\n",
        "])\n",
        "model = transformer_pipeline.fit(data_full)\n",
        "train_set_f, test_set_f = model.transform(data_full).randomSplit([0.1,0.9], seed = 33)\n"
      ],
      "metadata": {
        "id": "PjCWdSImhCAw"
      },
      "execution_count": null,
      "outputs": []
    }
  ]
}