{
  "nbformat": 4,
  "nbformat_minor": 0,
  "metadata": {
    "colab": {
      "provenance": [],
      "collapsed_sections": []
    },
    "kernelspec": {
      "name": "python3",
      "display_name": "Python 3"
    },
    "language_info": {
      "name": "python"
    }
  },
  "cells": [
    {
      "cell_type": "code",
      "execution_count": 1,
      "metadata": {
        "id": "ReH7amZPCk5w",
        "colab": {
          "base_uri": "https://localhost:8080/"
        },
        "outputId": "529b48fe-2573-4ed0-cf02-4f10ee3b684b"
      },
      "outputs": [
        {
          "output_type": "stream",
          "name": "stdout",
          "text": [
            "Looking in indexes: https://pypi.org/simple, https://us-python.pkg.dev/colab-wheels/public/simple/\n",
            "Collecting findspark\n",
            "  Downloading findspark-2.0.1-py2.py3-none-any.whl (4.4 kB)\n",
            "Installing collected packages: findspark\n",
            "Successfully installed findspark-2.0.1\n",
            "Looking in indexes: https://pypi.org/simple, https://us-python.pkg.dev/colab-wheels/public/simple/\n",
            "Collecting pyspark\n",
            "  Downloading pyspark-3.3.0.tar.gz (281.3 MB)\n",
            "\u001b[K     |████████████████████████████████| 281.3 MB 39 kB/s \n",
            "\u001b[33mWARNING: Retrying (Retry(total=4, connect=None, read=None, redirect=None, status=None)) after connection broken by 'ProtocolError('Connection aborted.', ConnectionResetError(104, 'Connection reset by peer'))': /simple/py4j/\u001b[0m\n",
            "\u001b[?25hCollecting py4j==0.10.9.5\n",
            "  Downloading py4j-0.10.9.5-py2.py3-none-any.whl (199 kB)\n",
            "\u001b[K     |████████████████████████████████| 199 kB 52.5 MB/s \n",
            "\u001b[?25hBuilding wheels for collected packages: pyspark\n",
            "  Building wheel for pyspark (setup.py) ... \u001b[?25l\u001b[?25hdone\n",
            "  Created wheel for pyspark: filename=pyspark-3.3.0-py2.py3-none-any.whl size=281764026 sha256=7a52f2b86bee1f8883baa8091fa3cbbd0a955d445ac877727a1b6a6caf4502a5\n",
            "  Stored in directory: /root/.cache/pip/wheels/7a/8e/1b/f73a52650d2e5f337708d9f6a1750d451a7349a867f928b885\n",
            "Successfully built pyspark\n",
            "Installing collected packages: py4j, pyspark\n",
            "Successfully installed py4j-0.10.9.5 pyspark-3.3.0\n"
          ]
        }
      ],
      "source": [
        "!pip install findspark\n",
        "!pip install pyspark"
      ]
    },
    {
      "cell_type": "code",
      "source": [
        "import os\n",
        "import findspark\n",
        "findspark.init()\n",
        "from pyspark.sql import SparkSession\n",
        "from pyspark.sql import functions as f\n",
        "from pyspark import ml\n",
        "from pyspark import mllib\n",
        "from pyspark.ml.linalg import Vectors\n",
        "from pyspark.ml.feature import StringIndexer\n",
        "from pyspark.ml.feature import OneHotEncoder\n",
        "from pyspark.ml.feature import VectorAssembler\n",
        "from pyspark.ml import Pipeline\n",
        "from pyspark.ml.evaluation import MulticlassClassificationEvaluator\n",
        "from pyspark.ml.classification import RandomForestClassifier, DecisionTreeClassifier"
      ],
      "metadata": {
        "id": "PJEE8USRd22o"
      },
      "execution_count": 7,
      "outputs": []
    },
    {
      "cell_type": "code",
      "source": [
        "def init_spark(app_name: str):\n",
        "  spark = SparkSession.builder.appName(app_name).getOrCreate()\n",
        "  sc = spark.sparkContext\n",
        "  return spark, sc\n",
        "\n",
        "spark, sc = init_spark('demo')\n",
        "sc"
      ],
      "metadata": {
        "id": "taak5LizFCCE",
        "colab": {
          "base_uri": "https://localhost:8080/",
          "height": 199
        },
        "outputId": "65eb429b-c041-4caf-f092-1dead4ebef36"
      },
      "execution_count": 3,
      "outputs": [
        {
          "output_type": "execute_result",
          "data": {
            "text/plain": [
              "<SparkContext master=local[*] appName=demo>"
            ],
            "text/html": [
              "\n",
              "        <div>\n",
              "            <p><b>SparkContext</b></p>\n",
              "\n",
              "            <p><a href=\"http://5f415a447312:4040\">Spark UI</a></p>\n",
              "\n",
              "            <dl>\n",
              "              <dt>Version</dt>\n",
              "                <dd><code>v3.3.0</code></dd>\n",
              "              <dt>Master</dt>\n",
              "                <dd><code>local[*]</code></dd>\n",
              "              <dt>AppName</dt>\n",
              "                <dd><code>demo</code></dd>\n",
              "            </dl>\n",
              "        </div>\n",
              "        "
            ]
          },
          "metadata": {},
          "execution_count": 3
        }
      ]
    },
    {
      "cell_type": "code",
      "source": [
        "dataPath_hw = \"/content/data.json\"\n",
        "\n",
        "data_df = spark.read.format(\"json\")\\\n",
        "  .option(\"header\",\"true\")\\\n",
        "  .option(\"escape\", \"\\\"\")\\\n",
        "  .option(\"inferSchema\", \"true\")\\\n",
        "  .load(dataPath_hw)"
      ],
      "metadata": {
        "id": "VcH5CGRu_P6S"
      },
      "execution_count": 9,
      "outputs": []
    },
    {
      "cell_type": "markdown",
      "source": [
        "# **Model Creation**"
      ],
      "metadata": {
        "id": "509p2yX3goyv"
      }
    },
    {
      "cell_type": "markdown",
      "source": [
        "# Pipeline:"
      ],
      "metadata": {
        "id": "NgvQfPL5gxTy"
      }
    },
    {
      "cell_type": "code",
      "source": [
        "transformer_pipeline = Pipeline(stages=[\n",
        "    StringIndexer(inputCols=[\"Device\",'gt', 'User'],\\\n",
        "                  outputCols=[\"Device_idx\", \"gt_idx\", 'User_idx']),\n",
        "    OneHotEncoder(inputCol=\"Device_idx\", outputCol=\"Device_vec\"),\n",
        "    OneHotEncoder(inputCol=\"User_idx\", outputCol=\"User_vec\"),\n",
        "    VectorAssembler(inputCols=[\"Device_vec\", \"Index\", 'User_vec','x','y','z'], outputCol=\"features\")\n",
        "    ])\n",
        "model = transformer_pipeline.fit(data_df)\n",
        "\n",
        "\n",
        "train_set, test_set = model.transform(data_df).select('features','gt','gt_idx').randomSplit([0.7,0.3])"
      ],
      "metadata": {
        "id": "JuMhiVzHgzLp"
      },
      "execution_count": 29,
      "outputs": []
    },
    {
      "cell_type": "markdown",
      "source": [
        "# Train model:"
      ],
      "metadata": {
        "id": "dxPl-4cjmGce"
      }
    },
    {
      "cell_type": "code",
      "source": [
        "model_rf = RandomForestClassifier(labelCol=\"gt_idx\", featuresCol=\"features\", maxDepth=30,\n",
        "                                  numTrees=3, minInstancesPerNode=100)\n",
        "model_rf_fitted = model_rf.fit(train_set)"
      ],
      "metadata": {
        "id": "Wsp3Pckl7sIv"
      },
      "execution_count": 30,
      "outputs": []
    },
    {
      "cell_type": "markdown",
      "source": [
        "# Evaluate:"
      ],
      "metadata": {
        "id": "MeJmS2g6vD-o"
      }
    },
    {
      "cell_type": "code",
      "source": [
        "evaluator=MulticlassClassificationEvaluator(labelCol='gt_idx',predictionCol=\"prediction\", metricName='accuracy')\n",
        "pred_rf_train = model_rf_fitted.transform(train_set)\n",
        "pred_rf_test = model_rf_fitted.transform(test_set)\n",
        "print(f'Random Forest Accuracy Train set: {evaluator.evaluate(pred_rf_train)}')\n",
        "print(f'Random Forest Accuracy Test set: {evaluator.evaluate(pred_rf_test)}')"
      ],
      "metadata": {
        "colab": {
          "base_uri": "https://localhost:8080/"
        },
        "id": "kuYMaJUhpg8p",
        "outputId": "c9fe6185-6852-4850-baf0-657639e29275"
      },
      "execution_count": 31,
      "outputs": [
        {
          "output_type": "stream",
          "name": "stdout",
          "text": [
            "Random Forest Accuracy Train set: 0.872812190280934\n",
            "Random Forest Accuracy Test set: 0.8689882697947214\n"
          ]
        }
      ]
    },
    {
      "cell_type": "markdown",
      "source": [
        "# **Visualization**"
      ],
      "metadata": {
        "id": "crDD27JpzkwS"
      }
    },
    {
      "cell_type": "code",
      "source": [
        "import matplotlib.pyplot as plt\n",
        "import pandas as pd\n",
        "import seaborn as sn\n",
        "from pyspark.mllib.evaluation import MulticlassMetrics\n",
        "\n",
        "pred_list = pred_rf_train.select('gt_idx', 'prediction')\n",
        "metrics = MulticlassMetrics(pred_list.rdd.map(tuple))\n",
        "df_cm_2 = pd.DataFrame(metrics.confusionMatrix().toArray(), index = [i for i in range(7)],\n",
        "                  columns = [i for i in range(7)])\n",
        "plt.figure(figsize = (10,7))\n",
        "sn.heatmap(df_cm_2, annot=True, fmt='.7g')"
      ],
      "metadata": {
        "colab": {
          "base_uri": "https://localhost:8080/",
          "height": 446
        },
        "id": "Eioeghhs1qfJ",
        "outputId": "25e39d51-428a-4932-f866-ce5e65ad3e99"
      },
      "execution_count": 25,
      "outputs": [
        {
          "output_type": "execute_result",
          "data": {
            "text/plain": [
              "<matplotlib.axes._subplots.AxesSubplot at 0x7f08ddad6810>"
            ]
          },
          "metadata": {},
          "execution_count": 25
        },
        {
          "output_type": "display_data",
          "data": {
            "text/plain": [
              "<Figure size 720x504 with 2 Axes>"
            ],
            "image/png": "[encoded data removed]"
          },
          "metadata": {
            "needs_background": "light"
          }
        }
      ]
    },
    {
      "cell_type": "code",
      "source": [
        "import matplotlib.pyplot as plt\n",
        "import pandas as pd\n",
        "import seaborn as sn\n",
        "from pyspark.mllib.evaluation import MulticlassMetrics\n",
        "\n",
        "pred_list = pred_rf_test.select('gt_idx', 'prediction')\n",
        "metrics = MulticlassMetrics(pred_list.rdd.map(tuple))\n",
        "df_cm_2 = pd.DataFrame(metrics.confusionMatrix().toArray(), index = [i for i in range(7)],\n",
        "                  columns = [i for i in range(7)])\n",
        "plt.figure(figsize = (10,7))\n",
        "sn.heatmap(df_cm_2, annot=True, fmt='.7g')"
      ],
      "metadata": {
        "colab": {
          "base_uri": "https://localhost:8080/",
          "height": 446
        },
        "id": "GNn4LjZx-K8F",
        "outputId": "58d1a489-0cf5-4470-a9ba-e6c6aef01ae7"
      },
      "execution_count": 26,
      "outputs": [
        {
          "output_type": "execute_result",
          "data": {
            "text/plain": [
              "<matplotlib.axes._subplots.AxesSubplot at 0x7f08dd3f0d10>"
            ]
          },
          "metadata": {},
          "execution_count": 26
        },
        {
          "output_type": "display_data",
          "data": {
            "text/plain": [
              "<Figure size 720x504 with 2 Axes>"
            ],
            "image/png": "[encoded data removed]"
          },
          "metadata": {
            "needs_background": "light"
          }
        }
      ]
    },
    {
      "cell_type": "markdown",
      "source": [
        "# Legend:"
      ],
      "metadata": {
        "id": "2ejcPfXWHeD2"
      }
    },
    {
      "cell_type": "code",
      "source": [
        "train_set.select('gt','gt_idx').distinct().show()"
      ],
      "metadata": {
        "colab": {
          "base_uri": "https://localhost:8080/"
        },
        "id": "xcrN04ZW-ztF",
        "outputId": "f839ad9e-b569-4e76-9dd7-63d0de13d2a6"
      },
      "execution_count": 27,
      "outputs": [
        {
          "output_type": "stream",
          "name": "stdout",
          "text": [
            "+----------+------+\n",
            "|        gt|gt_idx|\n",
            "+----------+------+\n",
            "|      walk|   0.0|\n",
            "|       sit|   1.0|\n",
            "|      null|   5.0|\n",
            "|      bike|   3.0|\n",
            "|stairsdown|   6.0|\n",
            "|  stairsup|   4.0|\n",
            "|     stand|   2.0|\n",
            "+----------+------+\n",
            "\n"
          ]
        }
      ]
    }
  ]
}