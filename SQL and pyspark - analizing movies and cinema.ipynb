{
  "cells": [
    {
      "cell_type": "code",
      "execution_count": null,
      "metadata": {
        "id": "YifEkMbfl1mO",
        "colab": {
          "base_uri": "https://localhost:8080/"
        },
        "outputId": "5582ca70-05e5-4664-bfcb-08affd0b92a4"
      },
      "outputs": [
        {
          "output_type": "stream",
          "name": "stdout",
          "text": [
            "Looking in indexes: https://pypi.org/simple, https://us-python.pkg.dev/colab-wheels/public/simple/\n",
            "Collecting findspark\n",
            "  Downloading findspark-2.0.1-py2.py3-none-any.whl (4.4 kB)\n",
            "Installing collected packages: findspark\n",
            "Successfully installed findspark-2.0.1\n",
            "Looking in indexes: https://pypi.org/simple, https://us-python.pkg.dev/colab-wheels/public/simple/\n",
            "Collecting pyspark\n",
            "  Downloading pyspark-3.2.1.tar.gz (281.4 MB)\n",
            "\u001b[K     |████████████████████████████████| 281.4 MB 34 kB/s \n",
            "\u001b[?25hCollecting py4j==0.10.9.3\n",
            "  Downloading py4j-0.10.9.3-py2.py3-none-any.whl (198 kB)\n",
            "\u001b[K     |████████████████████████████████| 198 kB 57.1 MB/s \n",
            "\u001b[?25hBuilding wheels for collected packages: pyspark\n",
            "  Building wheel for pyspark (setup.py) ... \u001b[?25l\u001b[?25hdone\n",
            "  Created wheel for pyspark: filename=pyspark-3.2.1-py2.py3-none-any.whl size=281853642 sha256=2d9b3b9b726ea66b412258a8c5dd28b05ebd87c6691429ff20c7255e155ba6a6\n",
            "  Stored in directory: /root/.cache/pip/wheels/9f/f5/07/7cd8017084dce4e93e84e92efd1e1d5334db05f2e83bcef74f\n",
            "Successfully built pyspark\n",
            "Installing collected packages: py4j, pyspark\n",
            "Successfully installed py4j-0.10.9.3 pyspark-3.2.1\n"
          ]
        }
      ],
      "source": [
        "!pip install findspark\n",
        "!pip install pyspark"
      ]
    },
    {
      "cell_type": "code",
      "execution_count": null,
      "metadata": {
        "id": "OQz1BflAoSz-"
      },
      "outputs": [],
      "source": [
        "import findspark\n",
        "import pandas as pd\n",
        "findspark.init()\n",
        "from pyspark.sql import SparkSession\n",
        "\n",
        "def init_spark(app_name: str):\n",
        "  spark = SparkSession.builder.appName(app_name).getOrCreate()\n",
        "  sc = spark.sparkContext\n",
        "  return spark, sc"
      ]
    },
    {
      "cell_type": "code",
      "execution_count": null,
      "metadata": {
        "id": "bolGTAiuoWCW"
      },
      "outputs": [],
      "source": [
        "spark, sc = init_spark('demo')\n",
        "sc"
      ]
    },
    {
      "cell_type": "code",
      "execution_count": null,
      "metadata": {
        "id": "94q3rfLlcePW"
      },
      "outputs": [],
      "source": [
        "from pyspark.sql.types import *\n",
        "import re\n",
        "from pyspark.sql import functions as f"
      ]
    },
    {
      "cell_type": "code",
      "execution_count": null,
      "metadata": {
        "id": "c0OCTZ_CorVq"
      },
      "outputs": [],
      "source": [
        "spark1 = SparkSession.builder.appName('Users_DF').getOrCreate()\n",
        "\n",
        "\n",
        "user_schema = StructType([\n",
        "                    StructField(\"user_id\", IntegerType()),\n",
        "                    StructField('user_location', StringType())])\n",
        "                     \n",
        "dataPath = \"users.csv\"\n",
        "users_df = spark1.read.format(\"csv\")\\\n",
        "  .option(\"header\",\"true\")\\\n",
        "  .schema(user_schema)\\\n",
        "  .load(dataPath)\n",
        "users_df = users_df.withColumn('user_id', f.col('user_id').cast('string'))"
      ]
    },
    {
      "cell_type": "code",
      "execution_count": null,
      "metadata": {
        "id": "bbhT5S1jrFMS"
      },
      "outputs": [],
      "source": [
        "dataPath2 = \"movies.csv\"\n",
        "movies_df = spark1.read.format(\"csv\")\\\n",
        "  .option(\"header\",\"true\")\\\n",
        "  .option(\"escape\", \"\\\"\")\\\n",
        "  .option('inferSchema', \"true\")\\\n",
        "  .load(dataPath2)\n",
        "\n",
        "\n",
        "prog = re.compile(\"(name': ')((((\\w+|&|\\/) |((\\w+|&|\\/)([^(\\'\\\")](\\, )*)( )*|\\((.*?)\\)( )*|\\\"(.*?)\\\"|\\d+)+)+))(')\")\n",
        "second_match = f.udf(lambda x: [f\"{i[1]}\" for i in prog.findall(x)], ArrayType(StringType()))\n",
        "\n",
        "prog2 = re.compile(\"(')(\\w+)(')\")\n",
        "cities_udf = f.udf(lambda x: [i[1] for i in prog2.findall(x)], ArrayType(StringType()))\n",
        "\n",
        "prog3 = re.compile(\"(name': ')(.*?)('})\")\n",
        "lang_udf = f.udf(lambda x: [i[1] for i in prog3.findall(x)], ArrayType(StringType()))\n",
        "\n",
        "prog4 = re.compile(\"\\d+\")\n",
        "id_udf = f.udf(lambda x: prog4.findall(x), StringType())\n",
        "\n",
        "for col_name in ['genres','production_companies','production_countries']:\n",
        "    movies_df = movies_df.withColumn(col_name, second_match(col_name))\n",
        "\n",
        "movies_df = movies_df.withColumn(\"release_date\",f.split(f.col(\"release_date\"), \"/\").getItem(2))\\\n",
        "  .withColumn('cities', cities_udf('cities'))\\\n",
        "  .withColumn('movie_id', id_udf('movie_id'))\\\n",
        "  .withColumn(\"movie_id\", f.expr(\"substring(movie_id, 2, length(movie_id)-2)\"))\\\n",
        "  .withColumn('lang', lang_udf('spoken_languages'))\\\n",
        "  .drop('revenue', 'tagline', 'spoken_languages', 'overview')"
      ]
    },
    {
      "cell_type": "code",
      "execution_count": null,
      "metadata": {
        "id": "l6M29DU26s4b"
      },
      "outputs": [],
      "source": [
        "dataPath3 = \"tickets.csv\"\n",
        "tickets_df = spark1.read.format(\"csv\")\\\n",
        "  .option(\"header\",\"true\")\\\n",
        "  .option(\"encoding\",\"UTF-8\")\\\n",
        "  .option(\"inferSchema\", \"true\")\\\n",
        "  .load(dataPath3)\n",
        "\n",
        "tickets_df = tickets_df.withColumn('user_id', f.col('user_id').cast('string'))\\\n",
        "            .withColumn('movie_id', f.col('movie_id').cast('string'))\\\n",
        "            .withColumn('cinema_id', f.col('cinema_id').cast('string'))\\"
      ]
    },
    {
      "cell_type": "code",
      "execution_count": null,
      "metadata": {
        "id": "TEmY7iwNeVeZ"
      },
      "outputs": [],
      "source": [
        "dataPath5 = \"queries.csv\"\n",
        "queries_df = spark1.read.format(\"csv\")\\\n",
        "  .option(\"header\",\"true\")\\\n",
        "  .option(\"escape\", \"\\\"\")\\\n",
        "  .option(\"encoding\",\"UTF-8\")\\\n",
        "  .option(\"inferSchema\", \"true\")\\\n",
        "  .load(dataPath5)\n",
        "\n",
        "\n",
        "list_prog = re.compile((\"(((\\w+|&|\\/) |((\\w+|&|\\/)([^(\\'\\\")](\\, )*)( )*|\\((.*?)\\)( )*|\\\"(.*?)\\\"|\\d+)+)+)\"))\n",
        "list_udf = f.udf(lambda x: [i[0] for i in list_prog.findall(x)], ArrayType(StringType()))\n",
        "\n",
        "q_lang_prog = re.compile(\"(')(.*?)(')\")\n",
        "q_lang_udf = f.udf(lambda x: [i[1] for i in q_lang_prog.findall(x)], ArrayType(StringType()))\n",
        "\n",
        "for col_name in ['actors','director','cities', 'country','production_company','genres']:\n",
        "    queries_df = queries_df.withColumn(col_name, list_udf(col_name))\n",
        "queries_df = queries_df.withColumn(\"realease_date\", f.expr(\"substring(from_realese_date, 3, length(from_realese_date)-4)\"))\\\n",
        "    .withColumn('lang', q_lang_udf('lang'))\\\n",
        "    .withColumn('user_id', f.col('user_id').cast('string'))\\\n",
        "    .drop('from_realese_date')"
      ]
    },
    {
      "cell_type": "code",
      "execution_count": null,
      "metadata": {
        "id": "9ZKsXVFOmOq7"
      },
      "outputs": [],
      "source": [
        "dataPath6 = \"credits.csv\"\n",
        "credits_df = spark1.read.format(\"csv\")\\\n",
        "  .option(\"header\",\"true\")\\\n",
        "  .option(\"escape\", \"\\\"\")\\\n",
        "  .option(\"encoding\",\"UTF-8\")\\\n",
        "  .option(\"inferSchema\", \"true\")\\\n",
        "  .load(dataPath6)\n",
        "\n",
        "cast_prog = re.compile(\"(name)(': ')((((\\w+|&|\\/) |((\\w+|&|\\/)([^(\\'\\\")](\\, )*)( )*|\\((.*?)\\)( )*|\\\"(.*?)\\\"|\\d+)+)+))\")\n",
        "cast_udf = f.udf(lambda x: [f\"{i[2]}\" for i in cast_prog.findall(x)], ArrayType(StringType()))\n",
        "\n",
        "crew_prog = re.compile(\"('Director\\\\', \\\\'name\\\\': \\\\')((((\\w+|&|\\/) |((\\w+|&|\\/)([^(\\'\\\")](\\, )*)( )*|\\((.*?)\\)( )*|\\\"(.*?)\\\"|\\d+)+)+))(\\\\',)\")\n",
        "crew_udf = f.udf(lambda x: [f\"{i[1]}\" for i in crew_prog.findall(x)], ArrayType(StringType()))\n",
        "\n",
        "credits_df = credits_df.withColumn('actors', cast_udf('cast')).withColumn('director', crew_udf('crew')).drop('crew', 'cast')"
      ]
    },
    {
      "cell_type": "markdown",
      "metadata": {
        "id": "_kWfboQtcVrS"
      },
      "source": [
        "ANALIZE:"
      ]
    },
    {
      "cell_type": "code",
      "execution_count": null,
      "metadata": {
        "id": "9qrFTBL8dW6v"
      },
      "outputs": [],
      "source": [
        "def check_null(df):\n",
        "  df.select([f.count(f.when(f.col(c) == '[]', c)).alias(c) for c in df.columns]).show()"
      ]
    },
    {
      "cell_type": "code",
      "execution_count": null,
      "metadata": {
        "colab": {
          "base_uri": "https://localhost:8080/"
        },
        "id": "wORQBevxdm80",
        "outputId": "3697e48f-0238-4330-e5e7-deacd77de0bf"
      },
      "outputs": [
        {
          "name": "stdout",
          "output_type": "stream",
          "text": [
            "+-------+------+----+------+--------+------+-------+-----------------+------------------+\n",
            "|user_id|genres|lang|actors|director|cities|country|from_realese_date|production_company|\n",
            "+-------+------+----+------+--------+------+-------+-----------------+------------------+\n",
            "|      0|   141|   0| 44701|   77688|     0|  45071|                0|                 0|\n",
            "+-------+------+----+------+--------+------+-------+-----------------+------------------+\n",
            "\n"
          ]
        }
      ],
      "source": [
        "temp_path = \"queries.csv\"\n",
        "temp_df = spark1.read.format(\"csv\")\\\n",
        "  .option(\"header\",\"true\")\\\n",
        "  .option(\"escape\", \"\\\"\")\\\n",
        "  .option(\"encoding\",\"UTF-8\")\\\n",
        "  .option(\"inferSchema\", \"true\")\\\n",
        "  .load(temp_path)\n",
        "check_null(temp_df)"
      ]
    },
    {
      "cell_type": "markdown",
      "metadata": {
        "id": "nQNoYIrpdxBX"
      },
      "source": [
        "We notice that out of the possible 100,000 tuples, about half don't care about specific actors or production country.\n",
        "This is especially the case with directors - nore then 75% of queries don't consider the director of the movies."
      ]
    },
    {
      "cell_type": "code",
      "execution_count": null,
      "metadata": {
        "colab": {
          "base_uri": "https://localhost:8080/"
        },
        "id": "4HGW3CN2cQ2m",
        "outputId": "e3697f8d-31b9-4e32-87d5-f28e286a1f58"
      },
      "outputs": [
        {
          "name": "stdout",
          "output_type": "stream",
          "text": [
            "+--------+---------+-----+\n",
            "|    lang|   cities|count|\n",
            "+--------+---------+-----+\n",
            "|עִבְרִית|Jerusalem|26274|\n",
            "|עִבְרִית| Tel Aviv|15958|\n",
            "|עִבְרִית|    Haifa|  104|\n",
            "|עִבְרִית|    Eilat|   67|\n",
            "|עִבְרִית| Tiberias|   56|\n",
            "+--------+---------+-----+\n",
            "\n"
          ]
        }
      ],
      "source": [
        "queries_df.withColumn('lang', f.explode('lang'))\\\n",
        "    .withColumn('cities', f.explode('cities'))\\\n",
        "    .select('*').where(f.col('lang') == 'עִבְרִית').groupBy('lang','cities').count().orderBy('count', ascending=False).show()"
      ]
    },
    {
      "cell_type": "code",
      "execution_count": null,
      "metadata": {
        "colab": {
          "base_uri": "https://localhost:8080/"
        },
        "id": "ERSmBtWwgS-_",
        "outputId": "f6025b00-d511-47e0-fe46-6fe6d5e30b15"
      },
      "outputs": [
        {
          "data": {
            "text/plain": [
              "[Row(cities=['Tel Aviv', 'Jerusalem'], count=22276),\n",
              " Row(cities=['Tel Aviv'], count=21151),\n",
              " Row(cities=['Eilat'], count=17348),\n",
              " Row(cities=['Haifa'], count=17346),\n",
              " Row(cities=['Jerusalem'], count=12285),\n",
              " Row(cities=['Tiberias'], count=4228),\n",
              " Row(cities=['Haifa', 'Tiberias'], count=4072),\n",
              " Row(cities=['Haifa', 'Tiberias', 'Tel Aviv'], count=1294)]"
            ]
          },
          "execution_count": 19,
          "metadata": {},
          "output_type": "execute_result"
        }
      ],
      "source": [
        "queries_df.select('*').groupBy('cities').count().orderBy('count', ascending=False).take(10)"
      ]
    },
    {
      "cell_type": "code",
      "execution_count": null,
      "metadata": {
        "colab": {
          "base_uri": "https://localhost:8080/"
        },
        "id": "u_8X6n_rkn-u",
        "outputId": "05a78210-cf60-4cb0-a8b0-5caa2cbda2e5"
      },
      "outputs": [
        {
          "data": {
            "text/plain": [
              "[Row(user_location='Jerusalem', count=30873),\n",
              " Row(user_location='Tel Aviv', count=24839),\n",
              " Row(user_location='Haifa', count=21652),\n",
              " Row(user_location='Eilat', count=17348),\n",
              " Row(user_location='Kibuts Gesher', count=5288)]"
            ]
          },
          "execution_count": 21,
          "metadata": {},
          "output_type": "execute_result"
        }
      ],
      "source": [
        "user_q_df.select('*').groupBy('user_location').count().orderBy('count', ascending=False).take(10)"
      ]
    },
    {
      "cell_type": "code",
      "execution_count": null,
      "metadata": {
        "colab": {
          "base_uri": "https://localhost:8080/"
        },
        "id": "pNiuX9wS2ocl",
        "outputId": "6b3031c1-23d2-4004-90dd-e1461696c0e8"
      },
      "outputs": [
        {
          "data": {
            "text/plain": [
              "[Row(user_location='Kibuts Gesher', count=576),\n",
              " Row(user_location='Haifa', count=2324),\n",
              " Row(user_location='Jerusalem', count=3263),\n",
              " Row(user_location='Tel Aviv', count=2643),\n",
              " Row(user_location='Eilat', count=1850)]"
            ]
          },
          "execution_count": 22,
          "metadata": {},
          "output_type": "execute_result"
        }
      ],
      "source": [
        "users_df.select('*').groupBy('user_location').count().take(5)"
      ]
    },
    {
      "cell_type": "code",
      "execution_count": null,
      "metadata": {
        "id": "kJbKHZn51slh"
      },
      "outputs": [],
      "source": [
        "tickets_u_df = tickets_df.join(users_df, on='user_id')"
      ]
    },
    {
      "cell_type": "code",
      "source": [
        "tickets_u_df.show()"
      ],
      "metadata": {
        "id": "uQ5xnMkoyET7"
      },
      "execution_count": null,
      "outputs": []
    },
    {
      "cell_type": "code",
      "execution_count": null,
      "metadata": {
        "id": "4DzfTpxFGPOq"
      },
      "outputs": [],
      "source": [
        "users_q_df = queries_df.join(users_df, on='user_id')"
      ]
    },
    {
      "cell_type": "code",
      "execution_count": null,
      "metadata": {
        "colab": {
          "base_uri": "https://localhost:8080/"
        },
        "id": "XmFPcm4elDNg",
        "outputId": "a48d1f9c-4ef7-46cd-a925-cd9c046bf08b"
      },
      "outputs": [
        {
          "output_type": "execute_result",
          "data": {
            "text/plain": [
              "[Row(user_location='Jerusalem', sum(number_of_tickets)=315926),\n",
              " Row(user_location='Haifa', sum(number_of_tickets)=228375),\n",
              " Row(user_location='Tel Aviv', sum(number_of_tickets)=140203),\n",
              " Row(user_location='Eilat', sum(number_of_tickets)=138043),\n",
              " Row(user_location='Kibuts Gesher', sum(number_of_tickets)=27915)]"
            ]
          },
          "metadata": {},
          "execution_count": 19
        }
      ],
      "source": [
        "tickets_u_df.select('*').groupBy('user_location').sum('number_of_tickets').orderBy('sum(number_of_tickets)', ascending=False).take(25)"
      ]
    },
    {
      "cell_type": "code",
      "execution_count": null,
      "metadata": {
        "colab": {
          "base_uri": "https://localhost:8080/"
        },
        "id": "QeTVRQSgGXGK",
        "outputId": "195ebd4d-874c-4bd2-cc23-b2d5f6ec378a"
      },
      "outputs": [
        {
          "data": {
            "text/plain": [
              "[Row(user_location='Haifa', count=19848),\n",
              " Row(user_location='Jerusalem', count=963),\n",
              " Row(user_location='Tel Aviv', count=763),\n",
              " Row(user_location='Eilat', count=530),\n",
              " Row(user_location='Kibuts Gesher', count=151)]"
            ]
          },
          "execution_count": 26,
          "metadata": {},
          "output_type": "execute_result"
        }
      ],
      "source": [
        "users_q_df.select('*').where(f.col('director')[0].isNotNull()).groupBy('user_location').count().orderBy('count', ascending=False).take(25)"
      ]
    },
    {
      "cell_type": "code",
      "execution_count": null,
      "metadata": {
        "colab": {
          "base_uri": "https://localhost:8080/"
        },
        "id": "jmxoy3_1LM4X",
        "outputId": "7214b612-bb3c-4c8c-938b-03cde13c0e86"
      },
      "outputs": [
        {
          "data": {
            "text/plain": [
              "[Row(user_location='Jerusalem', count=29355),\n",
              " Row(user_location='Tel Aviv', count=12509),\n",
              " Row(user_location='Haifa', count=10756),\n",
              " Row(user_location='Kibuts Gesher', count=2625)]"
            ]
          },
          "execution_count": 27,
          "metadata": {},
          "output_type": "execute_result"
        }
      ],
      "source": [
        "users_q_df.select('*').where(f.col('actors')[0].isNotNull()).groupBy('user_location').count().orderBy('count', ascending=False).take(25)"
      ]
    },
    {
      "cell_type": "code",
      "execution_count": null,
      "metadata": {
        "colab": {
          "base_uri": "https://localhost:8080/"
        },
        "id": "wMT8VOsoLWjb",
        "outputId": "45df34ad-2ae9-4538-c2a6-753f0e5e0ee7"
      },
      "outputs": [
        {
          "output_type": "execute_result",
          "data": {
            "text/plain": [
              "[Row(user_location='Jerusalem', count=30873),\n",
              " Row(user_location='Eilat', count=17348),\n",
              " Row(user_location='Kibuts Gesher', count=5288),\n",
              " Row(user_location='Tel Aviv', count=760),\n",
              " Row(user_location='Haifa', count=660)]"
            ]
          },
          "metadata": {},
          "execution_count": 48
        }
      ],
      "source": [
        "users_q_df.select('*').where(f.col('country')[0].isNotNull()).groupBy('user_location').count().orderBy('count', ascending=False).take(25)"
      ]
    },
    {
      "cell_type": "code",
      "execution_count": null,
      "metadata": {
        "id": "ayQRoEZt76yq"
      },
      "outputs": [],
      "source": [
        "movies_df.groupBy('release_date').count().orderBy('count', ascending=False).take(25)"
      ]
    },
    {
      "cell_type": "markdown",
      "source": [
        "Algorithm for VF deciding which attribute to seperate - between genres, director, actirs and country.\n",
        "\n",
        "Step 1 : creating queries frequencies matrix"
      ],
      "metadata": {
        "id": "aLVaQTXwcEPc"
      }
    },
    {
      "cell_type": "code",
      "execution_count": null,
      "metadata": {
        "id": "L9tK0D3ahbMd"
      },
      "outputs": [],
      "source": [
        "func_df = queries_df.join(users_df, on='user_id').select('country', 'actors', 'director','genres', 'user_location')\n",
        "not_c = f.col('country')[0].isNull()\n",
        "c = f.col('country')[0].isNotNull()\n",
        "not_a = f.col('actors')[0].isNull()\n",
        "a = f.col('actors')[0].isNotNull()\n",
        "not_d = f.col('director')[0].isNull()\n",
        "d = f.col('director')[0].isNotNull()\n",
        "not_g = f.col('genres')[0].isNull()\n",
        "g = f.col('genres')[0].isNotNull()\n",
        "dict_q = {}\n",
        "q1 =  func_df.select('*').where(not_a & not_c & not_d & not_g).groupBy('user_location').count().collect()\n",
        "q2 = func_df.select('*').where(a & not_c & not_d & not_g).groupBy('user_location').count().collect()\n",
        "q3 = func_df.select('*').where(not_a & c & not_d & not_g).groupBy('user_location').count().collect()\n",
        "q4 = func_df.select('*').where(not_a & not_c & d & not_g).groupBy('user_location').count().collect()\n",
        "q5 = func_df.select('*').where(a & c & not_d & not_g).groupBy('user_location').count().collect()\n",
        "q6 = func_df.select('*').where(a & not_c & d & not_g).groupBy('user_location').count().collect()\n",
        "q7 = func_df.select('*').where(not_a & c & d & not_g).groupBy('user_location').count().collect()\n",
        "q8 = func_df.select('*').where(a & c & d & not_g).groupBy('user_location').count().collect()\n",
        "q9 =  func_df.select('*').where(not_a & not_c & not_d & g).groupBy('user_location').count().collect()\n",
        "q10 = func_df.select('*').where(a & not_c & not_d & g).groupBy('user_location').count().collect()\n",
        "q11 = func_df.select('*').where(not_a & c & not_d & g).groupBy('user_location').count().collect()\n",
        "q12 = func_df.select('*').where(not_a & not_c & d & g).groupBy('user_location').count().collect()\n",
        "q13 = func_df.select('*').where(a & c & not_d & g).groupBy('user_location').count().collect()\n",
        "q14 = func_df.select('*').where(a & not_c & d & g).groupBy('user_location').count().collect()\n",
        "q15 = func_df.select('*').where(not_a & c & d & g).groupBy('user_location').count().collect()\n",
        "q16 = func_df.select('*').where(a & c & d & g).groupBy('user_location').count().collect()\n",
        "\n",
        "\n"
      ]
    },
    {
      "cell_type": "markdown",
      "source": [
        "Creating the frequencies matrix, and matrix q_per_att describes which attributes every query access."
      ],
      "metadata": {
        "id": "KcGViUc6cWAR"
      }
    },
    {
      "cell_type": "code",
      "execution_count": null,
      "metadata": {
        "id": "lAd-a2qApV6O"
      },
      "outputs": [],
      "source": [
        "sites = ['Jerusalem', 'Haifa', 'Tel Aviv','Eilat','Kibuts Gesher']\n",
        "att = ['actors','country', 'director', 'genres']\n",
        "q_per_site = pd.DataFrame(columns = sites)\n",
        "q_per_att = pd.DataFrame(columns = att, index=range(1,17))\n",
        "index = 1\n",
        "for q in [q1,q2,q3,q4,q5,q6,q7,q8,q9,q10,q11,q12,q13,q14,q15,q16]:\n",
        "  temp_dict = {}\n",
        "  for site in sites:\n",
        "      temp_dict[site] = 0\n",
        "  for i in q:\n",
        "    temp_dict[i['user_location']] = i['count']\n",
        "  temp_df = pd.DataFrame(temp_dict, index=[index])\n",
        "  index += 1\n",
        "  q_per_site = pd.concat([q_per_site, temp_df])\n",
        "\n",
        "q_per_att.iloc[0] = [0,0,0,0]\n",
        "q_per_att.iloc[1] = [1,0,0,0]\n",
        "q_per_att.iloc[2] = [0,1,0,0]\n",
        "q_per_att.iloc[3] = [0,0,1,0]\n",
        "q_per_att.iloc[4] = [1,1,0,0]\n",
        "q_per_att.iloc[5] = [1,0,1,0]\n",
        "q_per_att.iloc[6] = [0,1,1,0]\n",
        "q_per_att.iloc[7] = [1,1,1,0]\n",
        "q_per_att.iloc[8] = [0,0,0,1]\n",
        "q_per_att.iloc[9] = [1,0,0,1]\n",
        "q_per_att.iloc[10] = [0,1,0,1]\n",
        "q_per_att.iloc[11] = [0,0,1,1]\n",
        "q_per_att.iloc[12] = [1,1,0,1]\n",
        "q_per_att.iloc[13] = [1,0,1,1]\n",
        "q_per_att.iloc[14] = [0,1,1,1]\n",
        "q_per_att.iloc[15] = [1,1,1,1]"
      ]
    },
    {
      "cell_type": "markdown",
      "source": [
        "Frequencies Matrix:"
      ],
      "metadata": {
        "id": "h-lJf5evc_wd"
      }
    },
    {
      "cell_type": "code",
      "execution_count": null,
      "metadata": {
        "colab": {
          "base_uri": "https://localhost:8080/",
          "height": 551
        },
        "id": "qcfeDyr9GaeV",
        "outputId": "1f8599a0-5ab9-4c41-96a7-2399f3c8b599"
      },
      "outputs": [
        {
          "output_type": "execute_result",
          "data": {
            "text/plain": [
              "   Jerusalem Haifa Tel Aviv  Eilat Kibuts Gesher\n",
              "1          0     0        0      0             0\n",
              "2          0     0        0      0             0\n",
              "3          0     0        0      0            64\n",
              "4          0     0        0      0             0\n",
              "5          0     0        0      0            70\n",
              "6          0     0        0      0             0\n",
              "7          0     0        0      0             3\n",
              "8          0     0        0      0             4\n",
              "9          0   882    11584      0             0\n",
              "10         0   867    11757      0             0\n",
              "11      1483    26      365  16818          2521\n",
              "12         0  9677      368      0             0\n",
              "13     28427    29      370      0          2482\n",
              "14         0  9566      370      0             0\n",
              "15        35   311       13    530            75\n",
              "16       928   294       12      0            69"
            ],
            "text/html": [
              "\n",
              "  <div id=\"df-75057962-c403-436b-8ef6-04777835fc0e\">\n",
              "    <div class=\"colab-df-container\">\n",
              "      <div>\n",
              "<style scoped>\n",
              "    .dataframe tbody tr th:only-of-type {\n",
              "        vertical-align: middle;\n",
              "    }\n",
              "\n",
              "    .dataframe tbody tr th {\n",
              "        vertical-align: top;\n",
              "    }\n",
              "\n",
              "    .dataframe thead th {\n",
              "        text-align: right;\n",
              "    }\n",
              "</style>\n",
              "<table border=\"1\" class=\"dataframe\">\n",
              "  <thead>\n",
              "    <tr style=\"text-align: right;\">\n",
              "      <th></th>\n",
              "      <th>Jerusalem</th>\n",
              "      <th>Haifa</th>\n",
              "      <th>Tel Aviv</th>\n",
              "      <th>Eilat</th>\n",
              "      <th>Kibuts Gesher</th>\n",
              "    </tr>\n",
              "  </thead>\n",
              "  <tbody>\n",
              "    <tr>\n",
              "      <th>1</th>\n",
              "      <td>0</td>\n",
              "      <td>0</td>\n",
              "      <td>0</td>\n",
              "      <td>0</td>\n",
              "      <td>0</td>\n",
              "    </tr>\n",
              "    <tr>\n",
              "      <th>2</th>\n",
              "      <td>0</td>\n",
              "      <td>0</td>\n",
              "      <td>0</td>\n",
              "      <td>0</td>\n",
              "      <td>0</td>\n",
              "    </tr>\n",
              "    <tr>\n",
              "      <th>3</th>\n",
              "      <td>0</td>\n",
              "      <td>0</td>\n",
              "      <td>0</td>\n",
              "      <td>0</td>\n",
              "      <td>64</td>\n",
              "    </tr>\n",
              "    <tr>\n",
              "      <th>4</th>\n",
              "      <td>0</td>\n",
              "      <td>0</td>\n",
              "      <td>0</td>\n",
              "      <td>0</td>\n",
              "      <td>0</td>\n",
              "    </tr>\n",
              "    <tr>\n",
              "      <th>5</th>\n",
              "      <td>0</td>\n",
              "      <td>0</td>\n",
              "      <td>0</td>\n",
              "      <td>0</td>\n",
              "      <td>70</td>\n",
              "    </tr>\n",
              "    <tr>\n",
              "      <th>6</th>\n",
              "      <td>0</td>\n",
              "      <td>0</td>\n",
              "      <td>0</td>\n",
              "      <td>0</td>\n",
              "      <td>0</td>\n",
              "    </tr>\n",
              "    <tr>\n",
              "      <th>7</th>\n",
              "      <td>0</td>\n",
              "      <td>0</td>\n",
              "      <td>0</td>\n",
              "      <td>0</td>\n",
              "      <td>3</td>\n",
              "    </tr>\n",
              "    <tr>\n",
              "      <th>8</th>\n",
              "      <td>0</td>\n",
              "      <td>0</td>\n",
              "      <td>0</td>\n",
              "      <td>0</td>\n",
              "      <td>4</td>\n",
              "    </tr>\n",
              "    <tr>\n",
              "      <th>9</th>\n",
              "      <td>0</td>\n",
              "      <td>882</td>\n",
              "      <td>11584</td>\n",
              "      <td>0</td>\n",
              "      <td>0</td>\n",
              "    </tr>\n",
              "    <tr>\n",
              "      <th>10</th>\n",
              "      <td>0</td>\n",
              "      <td>867</td>\n",
              "      <td>11757</td>\n",
              "      <td>0</td>\n",
              "      <td>0</td>\n",
              "    </tr>\n",
              "    <tr>\n",
              "      <th>11</th>\n",
              "      <td>1483</td>\n",
              "      <td>26</td>\n",
              "      <td>365</td>\n",
              "      <td>16818</td>\n",
              "      <td>2521</td>\n",
              "    </tr>\n",
              "    <tr>\n",
              "      <th>12</th>\n",
              "      <td>0</td>\n",
              "      <td>9677</td>\n",
              "      <td>368</td>\n",
              "      <td>0</td>\n",
              "      <td>0</td>\n",
              "    </tr>\n",
              "    <tr>\n",
              "      <th>13</th>\n",
              "      <td>28427</td>\n",
              "      <td>29</td>\n",
              "      <td>370</td>\n",
              "      <td>0</td>\n",
              "      <td>2482</td>\n",
              "    </tr>\n",
              "    <tr>\n",
              "      <th>14</th>\n",
              "      <td>0</td>\n",
              "      <td>9566</td>\n",
              "      <td>370</td>\n",
              "      <td>0</td>\n",
              "      <td>0</td>\n",
              "    </tr>\n",
              "    <tr>\n",
              "      <th>15</th>\n",
              "      <td>35</td>\n",
              "      <td>311</td>\n",
              "      <td>13</td>\n",
              "      <td>530</td>\n",
              "      <td>75</td>\n",
              "    </tr>\n",
              "    <tr>\n",
              "      <th>16</th>\n",
              "      <td>928</td>\n",
              "      <td>294</td>\n",
              "      <td>12</td>\n",
              "      <td>0</td>\n",
              "      <td>69</td>\n",
              "    </tr>\n",
              "  </tbody>\n",
              "</table>\n",
              "</div>\n",
              "      <button class=\"colab-df-convert\" onclick=\"convertToInteractive('df-75057962-c403-436b-8ef6-04777835fc0e')\"\n",
              "              title=\"Convert this dataframe to an interactive table.\"\n",
              "              style=\"display:none;\">\n",
              "        \n",
              "  <svg xmlns=\"http://www.w3.org/2000/svg\" height=\"24px\"viewBox=\"0 0 24 24\"\n",
              "       width=\"24px\">\n",
              "    <path d=\"M0 0h24v24H0V0z\" fill=\"none\"/>\n",
              "    <path d=\"M18.56 5.44l.94 2.06.94-2.06 2.06-.94-2.06-.94-.94-2.06-.94 2.06-2.06.94zm-11 1L8.5 8.5l.94-2.06 2.06-.94-2.06-.94L8.5 2.5l-.94 2.06-2.06.94zm10 10l.94 2.06.94-2.06 2.06-.94-2.06-.94-.94-2.06-.94 2.06-2.06.94z\"/><path d=\"M17.41 7.96l-1.37-1.37c-.4-.4-.92-.59-1.43-.59-.52 0-1.04.2-1.43.59L10.3 9.45l-7.72 7.72c-.78.78-.78 2.05 0 2.83L4 21.41c.39.39.9.59 1.41.59.51 0 1.02-.2 1.41-.59l7.78-7.78 2.81-2.81c.8-.78.8-2.07 0-2.86zM5.41 20L4 18.59l7.72-7.72 1.47 1.35L5.41 20z\"/>\n",
              "  </svg>\n",
              "      </button>\n",
              "      \n",
              "  <style>\n",
              "    .colab-df-container {\n",
              "      display:flex;\n",
              "      flex-wrap:wrap;\n",
              "      gap: 12px;\n",
              "    }\n",
              "\n",
              "    .colab-df-convert {\n",
              "      background-color: #E8F0FE;\n",
              "      border: none;\n",
              "      border-radius: 50%;\n",
              "      cursor: pointer;\n",
              "      display: none;\n",
              "      fill: #1967D2;\n",
              "      height: 32px;\n",
              "      padding: 0 0 0 0;\n",
              "      width: 32px;\n",
              "    }\n",
              "\n",
              "    .colab-df-convert:hover {\n",
              "      background-color: #E2EBFA;\n",
              "      box-shadow: 0px 1px 2px rgba(60, 64, 67, 0.3), 0px 1px 3px 1px rgba(60, 64, 67, 0.15);\n",
              "      fill: #174EA6;\n",
              "    }\n",
              "\n",
              "    [theme=dark] .colab-df-convert {\n",
              "      background-color: #3B4455;\n",
              "      fill: #D2E3FC;\n",
              "    }\n",
              "\n",
              "    [theme=dark] .colab-df-convert:hover {\n",
              "      background-color: #434B5C;\n",
              "      box-shadow: 0px 1px 3px 1px rgba(0, 0, 0, 0.15);\n",
              "      filter: drop-shadow(0px 1px 2px rgba(0, 0, 0, 0.3));\n",
              "      fill: #FFFFFF;\n",
              "    }\n",
              "  </style>\n",
              "\n",
              "      <script>\n",
              "        const buttonEl =\n",
              "          document.querySelector('#df-75057962-c403-436b-8ef6-04777835fc0e button.colab-df-convert');\n",
              "        buttonEl.style.display =\n",
              "          google.colab.kernel.accessAllowed ? 'block' : 'none';\n",
              "\n",
              "        async function convertToInteractive(key) {\n",
              "          const element = document.querySelector('#df-75057962-c403-436b-8ef6-04777835fc0e');\n",
              "          const dataTable =\n",
              "            await google.colab.kernel.invokeFunction('convertToInteractive',\n",
              "                                                     [key], {});\n",
              "          if (!dataTable) return;\n",
              "\n",
              "          const docLinkHtml = 'Like what you see? Visit the ' +\n",
              "            '<a target=\"_blank\" href=https://colab.research.google.com/notebooks/data_table.ipynb>data table notebook</a>'\n",
              "            + ' to learn more about interactive tables.';\n",
              "          element.innerHTML = '';\n",
              "          dataTable['output_type'] = 'display_data';\n",
              "          await google.colab.output.renderOutput(dataTable, element);\n",
              "          const docLink = document.createElement('div');\n",
              "          docLink.innerHTML = docLinkHtml;\n",
              "          element.appendChild(docLink);\n",
              "        }\n",
              "      </script>\n",
              "    </div>\n",
              "  </div>\n",
              "  "
            ]
          },
          "metadata": {},
          "execution_count": 16
        }
      ],
      "source": [
        "q_per_site"
      ]
    },
    {
      "cell_type": "markdown",
      "metadata": {
        "id": "euFto9cIXDOs"
      },
      "source": [
        "Attributes accessed Matrix:\n",
        "\n",
        "** Note we assume accessibility of every query to every attribute is 1."
      ]
    },
    {
      "cell_type": "code",
      "execution_count": null,
      "metadata": {
        "colab": {
          "base_uri": "https://localhost:8080/",
          "height": 551
        },
        "id": "Vj5bv-7B0XvU",
        "outputId": "ccfde07c-799c-4c35-8fb8-62f4e2f07372"
      },
      "outputs": [
        {
          "output_type": "execute_result",
          "data": {
            "text/plain": [
              "   actors country director genres\n",
              "1       0       0        0      0\n",
              "2       1       0        0      0\n",
              "3       0       1        0      0\n",
              "4       0       0        1      0\n",
              "5       1       1        0      0\n",
              "6       1       0        1      0\n",
              "7       0       1        1      0\n",
              "8       1       1        1      0\n",
              "9       0       0        0      1\n",
              "10      1       0        0      1\n",
              "11      0       1        0      1\n",
              "12      0       0        1      1\n",
              "13      1       1        0      1\n",
              "14      1       0        1      1\n",
              "15      0       1        1      1\n",
              "16      1       1        1      1"
            ],
            "text/html": [
              "\n",
              "  <div id=\"df-1a0b2c5e-2f05-4f58-9ce6-39576d80c2ab\">\n",
              "    <div class=\"colab-df-container\">\n",
              "      <div>\n",
              "<style scoped>\n",
              "    .dataframe tbody tr th:only-of-type {\n",
              "        vertical-align: middle;\n",
              "    }\n",
              "\n",
              "    .dataframe tbody tr th {\n",
              "        vertical-align: top;\n",
              "    }\n",
              "\n",
              "    .dataframe thead th {\n",
              "        text-align: right;\n",
              "    }\n",
              "</style>\n",
              "<table border=\"1\" class=\"dataframe\">\n",
              "  <thead>\n",
              "    <tr style=\"text-align: right;\">\n",
              "      <th></th>\n",
              "      <th>actors</th>\n",
              "      <th>country</th>\n",
              "      <th>director</th>\n",
              "      <th>genres</th>\n",
              "    </tr>\n",
              "  </thead>\n",
              "  <tbody>\n",
              "    <tr>\n",
              "      <th>1</th>\n",
              "      <td>0</td>\n",
              "      <td>0</td>\n",
              "      <td>0</td>\n",
              "      <td>0</td>\n",
              "    </tr>\n",
              "    <tr>\n",
              "      <th>2</th>\n",
              "      <td>1</td>\n",
              "      <td>0</td>\n",
              "      <td>0</td>\n",
              "      <td>0</td>\n",
              "    </tr>\n",
              "    <tr>\n",
              "      <th>3</th>\n",
              "      <td>0</td>\n",
              "      <td>1</td>\n",
              "      <td>0</td>\n",
              "      <td>0</td>\n",
              "    </tr>\n",
              "    <tr>\n",
              "      <th>4</th>\n",
              "      <td>0</td>\n",
              "      <td>0</td>\n",
              "      <td>1</td>\n",
              "      <td>0</td>\n",
              "    </tr>\n",
              "    <tr>\n",
              "      <th>5</th>\n",
              "      <td>1</td>\n",
              "      <td>1</td>\n",
              "      <td>0</td>\n",
              "      <td>0</td>\n",
              "    </tr>\n",
              "    <tr>\n",
              "      <th>6</th>\n",
              "      <td>1</td>\n",
              "      <td>0</td>\n",
              "      <td>1</td>\n",
              "      <td>0</td>\n",
              "    </tr>\n",
              "    <tr>\n",
              "      <th>7</th>\n",
              "      <td>0</td>\n",
              "      <td>1</td>\n",
              "      <td>1</td>\n",
              "      <td>0</td>\n",
              "    </tr>\n",
              "    <tr>\n",
              "      <th>8</th>\n",
              "      <td>1</td>\n",
              "      <td>1</td>\n",
              "      <td>1</td>\n",
              "      <td>0</td>\n",
              "    </tr>\n",
              "    <tr>\n",
              "      <th>9</th>\n",
              "      <td>0</td>\n",
              "      <td>0</td>\n",
              "      <td>0</td>\n",
              "      <td>1</td>\n",
              "    </tr>\n",
              "    <tr>\n",
              "      <th>10</th>\n",
              "      <td>1</td>\n",
              "      <td>0</td>\n",
              "      <td>0</td>\n",
              "      <td>1</td>\n",
              "    </tr>\n",
              "    <tr>\n",
              "      <th>11</th>\n",
              "      <td>0</td>\n",
              "      <td>1</td>\n",
              "      <td>0</td>\n",
              "      <td>1</td>\n",
              "    </tr>\n",
              "    <tr>\n",
              "      <th>12</th>\n",
              "      <td>0</td>\n",
              "      <td>0</td>\n",
              "      <td>1</td>\n",
              "      <td>1</td>\n",
              "    </tr>\n",
              "    <tr>\n",
              "      <th>13</th>\n",
              "      <td>1</td>\n",
              "      <td>1</td>\n",
              "      <td>0</td>\n",
              "      <td>1</td>\n",
              "    </tr>\n",
              "    <tr>\n",
              "      <th>14</th>\n",
              "      <td>1</td>\n",
              "      <td>0</td>\n",
              "      <td>1</td>\n",
              "      <td>1</td>\n",
              "    </tr>\n",
              "    <tr>\n",
              "      <th>15</th>\n",
              "      <td>0</td>\n",
              "      <td>1</td>\n",
              "      <td>1</td>\n",
              "      <td>1</td>\n",
              "    </tr>\n",
              "    <tr>\n",
              "      <th>16</th>\n",
              "      <td>1</td>\n",
              "      <td>1</td>\n",
              "      <td>1</td>\n",
              "      <td>1</td>\n",
              "    </tr>\n",
              "  </tbody>\n",
              "</table>\n",
              "</div>\n",
              "      <button class=\"colab-df-convert\" onclick=\"convertToInteractive('df-1a0b2c5e-2f05-4f58-9ce6-39576d80c2ab')\"\n",
              "              title=\"Convert this dataframe to an interactive table.\"\n",
              "              style=\"display:none;\">\n",
              "        \n",
              "  <svg xmlns=\"http://www.w3.org/2000/svg\" height=\"24px\"viewBox=\"0 0 24 24\"\n",
              "       width=\"24px\">\n",
              "    <path d=\"M0 0h24v24H0V0z\" fill=\"none\"/>\n",
              "    <path d=\"M18.56 5.44l.94 2.06.94-2.06 2.06-.94-2.06-.94-.94-2.06-.94 2.06-2.06.94zm-11 1L8.5 8.5l.94-2.06 2.06-.94-2.06-.94L8.5 2.5l-.94 2.06-2.06.94zm10 10l.94 2.06.94-2.06 2.06-.94-2.06-.94-.94-2.06-.94 2.06-2.06.94z\"/><path d=\"M17.41 7.96l-1.37-1.37c-.4-.4-.92-.59-1.43-.59-.52 0-1.04.2-1.43.59L10.3 9.45l-7.72 7.72c-.78.78-.78 2.05 0 2.83L4 21.41c.39.39.9.59 1.41.59.51 0 1.02-.2 1.41-.59l7.78-7.78 2.81-2.81c.8-.78.8-2.07 0-2.86zM5.41 20L4 18.59l7.72-7.72 1.47 1.35L5.41 20z\"/>\n",
              "  </svg>\n",
              "      </button>\n",
              "      \n",
              "  <style>\n",
              "    .colab-df-container {\n",
              "      display:flex;\n",
              "      flex-wrap:wrap;\n",
              "      gap: 12px;\n",
              "    }\n",
              "\n",
              "    .colab-df-convert {\n",
              "      background-color: #E8F0FE;\n",
              "      border: none;\n",
              "      border-radius: 50%;\n",
              "      cursor: pointer;\n",
              "      display: none;\n",
              "      fill: #1967D2;\n",
              "      height: 32px;\n",
              "      padding: 0 0 0 0;\n",
              "      width: 32px;\n",
              "    }\n",
              "\n",
              "    .colab-df-convert:hover {\n",
              "      background-color: #E2EBFA;\n",
              "      box-shadow: 0px 1px 2px rgba(60, 64, 67, 0.3), 0px 1px 3px 1px rgba(60, 64, 67, 0.15);\n",
              "      fill: #174EA6;\n",
              "    }\n",
              "\n",
              "    [theme=dark] .colab-df-convert {\n",
              "      background-color: #3B4455;\n",
              "      fill: #D2E3FC;\n",
              "    }\n",
              "\n",
              "    [theme=dark] .colab-df-convert:hover {\n",
              "      background-color: #434B5C;\n",
              "      box-shadow: 0px 1px 3px 1px rgba(0, 0, 0, 0.15);\n",
              "      filter: drop-shadow(0px 1px 2px rgba(0, 0, 0, 0.3));\n",
              "      fill: #FFFFFF;\n",
              "    }\n",
              "  </style>\n",
              "\n",
              "      <script>\n",
              "        const buttonEl =\n",
              "          document.querySelector('#df-1a0b2c5e-2f05-4f58-9ce6-39576d80c2ab button.colab-df-convert');\n",
              "        buttonEl.style.display =\n",
              "          google.colab.kernel.accessAllowed ? 'block' : 'none';\n",
              "\n",
              "        async function convertToInteractive(key) {\n",
              "          const element = document.querySelector('#df-1a0b2c5e-2f05-4f58-9ce6-39576d80c2ab');\n",
              "          const dataTable =\n",
              "            await google.colab.kernel.invokeFunction('convertToInteractive',\n",
              "                                                     [key], {});\n",
              "          if (!dataTable) return;\n",
              "\n",
              "          const docLinkHtml = 'Like what you see? Visit the ' +\n",
              "            '<a target=\"_blank\" href=https://colab.research.google.com/notebooks/data_table.ipynb>data table notebook</a>'\n",
              "            + ' to learn more about interactive tables.';\n",
              "          element.innerHTML = '';\n",
              "          dataTable['output_type'] = 'display_data';\n",
              "          await google.colab.output.renderOutput(dataTable, element);\n",
              "          const docLink = document.createElement('div');\n",
              "          docLink.innerHTML = docLinkHtml;\n",
              "          element.appendChild(docLink);\n",
              "        }\n",
              "      </script>\n",
              "    </div>\n",
              "  </div>\n",
              "  "
            ]
          },
          "metadata": {},
          "execution_count": 17
        }
      ],
      "source": [
        "q_per_att"
      ]
    },
    {
      "cell_type": "markdown",
      "metadata": {
        "id": "RxGqwCJKqGfI"
      },
      "source": [
        "Step 2: Compute AAM matrix.\n",
        "\n",
        "Defining local function for calculating affinity."
      ]
    },
    {
      "cell_type": "code",
      "execution_count": null,
      "metadata": {
        "id": "QLNaGHl00ao2"
      },
      "outputs": [],
      "source": [
        "def affinity(i,j):\n",
        "  sum1 = 0\n",
        "  for k in range(16):\n",
        "    if q_per_att.iloc[k][i] == 1 and q_per_att.iloc[k][j] == 1:\n",
        "      sum1 += sum(q_per_site.iloc[k])\n",
        "  return sum1"
      ]
    },
    {
      "cell_type": "markdown",
      "source": [
        "Compute AAM Matrix:"
      ],
      "metadata": {
        "id": "wK_hd3p9djc7"
      }
    },
    {
      "cell_type": "code",
      "execution_count": null,
      "metadata": {
        "id": "KBAwIozJeAZM"
      },
      "outputs": [],
      "source": [
        "import numpy as np\n",
        "AAM = np.zeros((4,4))\n",
        "for i, att in enumerate(['actors','country', 'director', 'genres']):\n",
        "  for j, att2 in enumerate(['actors','country', 'director', 'genres']):\n",
        "      AAM[i][j] = affinity(i,j)\n"
      ]
    },
    {
      "cell_type": "markdown",
      "source": [
        "The AAM matrix:"
      ],
      "metadata": {
        "id": "qPRGw0IKdnXY"
      }
    },
    {
      "cell_type": "code",
      "execution_count": null,
      "metadata": {
        "colab": {
          "base_uri": "https://localhost:8080/"
        },
        "id": "18-W1xJlUuXA",
        "outputId": "83a344a9-a6d3-4543-a472-8320c5923a98"
      },
      "outputs": [
        {
          "output_type": "execute_result",
          "data": {
            "text/plain": [
              "array([[55245., 32685., 11243., 55171.],\n",
              "       [32685., 54929.,  2274., 54788.],\n",
              "       [11243.,  2274., 22255., 22248.],\n",
              "       [55171., 54788., 22248., 99859.]])"
            ]
          },
          "metadata": {},
          "execution_count": 19
        }
      ],
      "source": [
        "AAM"
      ]
    },
    {
      "cell_type": "markdown",
      "source": [
        "Compute and change order of AAM using Bond Energy Algorithm."
      ],
      "metadata": {
        "id": "SnMpNNMrdspV"
      }
    },
    {
      "cell_type": "code",
      "execution_count": null,
      "metadata": {
        "colab": {
          "base_uri": "https://localhost:8080/"
        },
        "id": "drw-XiugQfGm",
        "outputId": "b4882e52-c706-4bc4-8cb0-b1be80f32d2c"
      },
      "outputs": [
        {
          "name": "stdout",
          "output_type": "stream",
          "text": [
            "0 2 1 4\n",
            "1 2 2 4\n",
            "2 2 3 4\n",
            "0 3 1 4\n",
            "1 3 2 4\n",
            "2 3 3 4\n",
            "3 3 4 4\n",
            "[[11243. 55245. 55171. 32685.]\n",
            " [ 2274. 32685. 54788. 54929.]\n",
            " [22255. 11243. 22248.  2274.]\n",
            " [22248. 55171. 99859. 54788.]]\n"
          ]
        }
      ],
      "source": [
        "import numpy as np\n",
        "query_attr1 = q_per_att.to_numpy()\n",
        "query_access1 = q_per_site.to_numpy()\n",
        "query_attr = q_per_att.to_numpy()\n",
        "query_access = q_per_site.to_numpy()\n",
        "aa_matrix = np.zeros((4,4))\n",
        "\n",
        "def position_checker(positions):\n",
        "  aa_elem = []\n",
        "  for j in positions[0]:\n",
        "    aa_elem.append(np.sum(query_access[j:j+1, :]))\n",
        "  aa_matrix[i,k] = sum(aa_elem)\n",
        "\n",
        "def dot_prod(vec_a, vec_b):\n",
        "  return np.dot(vec_a.flatten(), vec_b.flatten())\n",
        "\n",
        "## AA_MARIX GENERATION\n",
        "for i in range(4):\n",
        "  for k in range(4):\n",
        "    if i == k:\n",
        "      attr = query_attr[:, k:k+1].flatten()\n",
        "      positions = np.where(attr == 1)\n",
        "      position_checker(positions)\n",
        "    else:\n",
        "      attr_i = query_attr[:, i:i+1].flatten()\n",
        "      attr_k = query_attr[:, k:k+1].flatten()\n",
        "      positions = np.where((attr_i == 1) & (attr_k == 1))\n",
        "      position_checker(positions)\n",
        "\n",
        "# BOND ENERGY ALGORITHM - GET INITIAL CC_MATRIX\n",
        "cc_matrix = aa_matrix[:, :2]\n",
        "cc_matrix = np.append(np.zeros((4,1)), cc_matrix, axis=1)\n",
        "cc_matrix = np.append(cc_matrix,np.zeros((4,1)), axis=1)\n",
        "\n",
        "# BOND ENERGY ALGORITHM - CC_MATRIX GENERATION\n",
        "for k in range(2, len(aa_matrix)):\n",
        "  i, j = 0, 1\n",
        "  get_values = []\n",
        "  while j < cc_matrix.shape[1]:\n",
        "    print(i,k,j, len(cc_matrix))\n",
        "    get_values.append(2 * dot_prod(cc_matrix[:, i:i+1], aa_matrix[:, k:k+1]) + \n",
        "                      2 * dot_prod(aa_matrix[:, k:k+1], cc_matrix[:, j:j+1]) - \n",
        "                      2 * dot_prod(cc_matrix[:, i:i+1], cc_matrix[:, j:j+1]))  \n",
        "    i = j\n",
        "    j+=1\n",
        "  pos = np.argmax(get_values) + 1\n",
        "  cc_matrix = np.insert(cc_matrix, pos, aa_matrix[k:k+1], axis=1)\n",
        "\n",
        "# BOND ENERGY ALGORITHM - REMOVES ZEROS COLUMNS\n",
        "cc_matrix = np.delete(cc_matrix, 0, axis=1)\n",
        "cc_matrix = np.delete(cc_matrix, cc_matrix.shape[1]-1, axis=1)\n",
        "\n",
        "print(cc_matrix)"
      ]
    },
    {
      "cell_type": "markdown",
      "source": [
        "Transform CC matrix to being symmetrical"
      ],
      "metadata": {
        "id": "pY2nCaD2d5Rd"
      }
    },
    {
      "cell_type": "code",
      "execution_count": null,
      "metadata": {
        "id": "Fk1HYzb2hI78"
      },
      "outputs": [],
      "source": [
        "for i in range(cc_matrix.shape[1]):\n",
        "  for j in range(i):\n",
        "    cc_matrix[j,i] = cc_matrix[i,j] "
      ]
    },
    {
      "cell_type": "markdown",
      "source": [
        "The CC Matrix:"
      ],
      "metadata": {
        "id": "pyqji8aEeFVF"
      }
    },
    {
      "cell_type": "code",
      "execution_count": null,
      "metadata": {
        "colab": {
          "base_uri": "https://localhost:8080/"
        },
        "id": "t_yKzalyiCaU",
        "outputId": "3db60580-60f3-4c65-ef82-78853b378e95"
      },
      "outputs": [
        {
          "data": {
            "text/plain": [
              "array([[11243.,  2274., 22255., 22248.],\n",
              "       [ 2274., 32685., 11243., 55171.],\n",
              "       [22255., 11243., 22248., 99859.],\n",
              "       [22248., 55171., 99859., 54788.]])"
            ]
          },
          "execution_count": 117,
          "metadata": {},
          "output_type": "execute_result"
        }
      ],
      "source": [
        "cc_matrix"
      ]
    },
    {
      "cell_type": "markdown",
      "metadata": {
        "id": "mpjlpYZXjf6b"
      },
      "source": [
        "So The order by attributes in both matrixes are:\n",
        "\n",
        "AAM : ['actors','country', 'director', 'genres']\n",
        "\n",
        "CC_MATRIX = ['director', 'actors', 'genres','country']\n",
        "\n",
        "- Configuring indexes of queries. for example: q_a are all queries accessing actors.\n",
        "\n",
        "- We can now compute the groups TA,BA,QA (we changed the names instead of TQ,BQ,OQ).\n",
        "\n",
        "- sum_of_q = sum of every query asked. we have the indexes in the groups TA,BA,QA, and then we can compute CTA,CBA,CQA.\n",
        "\n",
        "- lastly we print the value  CTA*CBA - CQA^2 and choose the maximal.\n",
        "\n",
        "- We then change the order of columns until we find the best split."
      ]
    },
    {
      "cell_type": "markdown",
      "source": [
        "Order: Director, Actors, Genres, Country"
      ],
      "metadata": {
        "id": "8CzJt7REfbBm"
      }
    },
    {
      "cell_type": "code",
      "execution_count": null,
      "metadata": {
        "colab": {
          "base_uri": "https://localhost:8080/"
        },
        "id": "DhKDxMDtuESy",
        "outputId": "65c42053-d510-4d2f-a4d9-aed23761b3b1"
      },
      "outputs": [
        {
          "output_type": "stream",
          "name": "stdout",
          "text": [
            "-495285025.0\n"
          ]
        }
      ],
      "source": [
        "sum_of_q = q_per_site.sum(axis=1)\n",
        "q_a = [2,5,6,8,10,13,14,16]\n",
        "q_d = [4,6,7,8,12,14,15,16]\n",
        "q_c = [3,5,7,8,11,13,15,16]\n",
        "q_g =  [9,10,11,12,13,14,15,16]\n",
        "TA = set(q_d).difference(set(q_g).union(set(q_c).union(set(q_a))))\n",
        "BA = set(q_g).union(set(q_c)).union(set(q_a)).difference(set(q_d))\n",
        "QA = set([i for i in range(1,17)]).difference(TA.union(BA))\n",
        "CTA = sum([sum_of_q.iloc[i-1] for i in TA])\n",
        "CBA = sum([sum_of_q.iloc[i-1] for i in BA])\n",
        "CQA = sum([sum_of_q.iloc[i-1] for i in QA])\n",
        "print(CTA*CBA-(CQA**2))\n"
      ]
    },
    {
      "cell_type": "code",
      "execution_count": null,
      "metadata": {
        "colab": {
          "base_uri": "https://localhost:8080/"
        },
        "id": "M-9xdD5wXNHF",
        "outputId": "ec934acb-d0b3-466d-9e1c-871e4706bffc"
      },
      "outputs": [
        {
          "name": "stdout",
          "output_type": "stream",
          "text": [
            "-4389990049.0\n"
          ]
        }
      ],
      "source": [
        "sum_of_q = q_per_site.sum(axis=1)\n",
        "q_a = [2,5,6,8,10,13,14,16]\n",
        "q_d = [4,6,7,8,12,14,15,16]\n",
        "q_c = [3,5,7,8,11,13,15,16]\n",
        "q_g =  [9,10,11,12,13,14,15,16]\n",
        "TA = set(q_d).union(set(q_a)).difference(set(q_g).union(set(q_c)))\n",
        "BA = set(q_c).union(set(q_g)).difference(set(q_a).union(set(q_d)))\n",
        "QA = set([i for i in range(1,17)]).difference(TA.union(BA))\n",
        "CTA = sum([sum_of_q.iloc[i-1] for i in TA])\n",
        "CBA = sum([sum_of_q.iloc[i-1] for i in BA])\n",
        "CQA = sum([sum_of_q.iloc[i-1] for i in QA])\n",
        "print(CTA*CBA-(CQA**2))\n",
        "\n",
        "\n"
      ]
    },
    {
      "cell_type": "code",
      "execution_count": null,
      "metadata": {
        "colab": {
          "base_uri": "https://localhost:8080/"
        },
        "id": "XkN7KHITupcy",
        "outputId": "03cd69b4-baf2-4ec9-a670-df638cba4bd5"
      },
      "outputs": [
        {
          "name": "stdout",
          "output_type": "stream",
          "text": [
            "-3007283681.0\n"
          ]
        }
      ],
      "source": [
        "sum_of_q = q_per_site.sum(axis=1)\n",
        "q_a = [2,5,6,8,10,13,14,16]\n",
        "q_d = [4,6,7,8,12,14,15,16]\n",
        "q_c = [3,5,7,8,11,13,15,16]\n",
        "q_g =  [9,10,11,12,13,14,15,16]\n",
        "TA = set(q_d).union(set(q_a).union(set(q_g))).difference(set(q_c))\n",
        "BA = set(q_c).difference(set(q_d).union(set(q_a).union(set(q_g))))\n",
        "QA = set([i for i in range(1,17)]).difference(TA.union(BA))\n",
        "CTA = sum([sum_of_q.iloc[i-1] for i in TA])\n",
        "CBA = sum([sum_of_q.iloc[i-1] for i in BA])\n",
        "CQA = sum([sum_of_q.iloc[i-1] for i in QA])\n",
        "print(CTA*CBA-(CQA**2))\n"
      ]
    },
    {
      "cell_type": "markdown",
      "metadata": {
        "id": "7bwIYImDvS2S"
      },
      "source": [
        "Order: Actors, Genres, Country, Director\n",
        "\n"
      ]
    },
    {
      "cell_type": "code",
      "execution_count": null,
      "metadata": {
        "colab": {
          "base_uri": "https://localhost:8080/"
        },
        "id": "sEme_oYFvMDa",
        "outputId": "dd515b65-0fd3-498d-ffd3-8d2972d4317f"
      },
      "outputs": [
        {
          "name": "stdout",
          "output_type": "stream",
          "text": [
            "-3052010025.0\n"
          ]
        }
      ],
      "source": [
        "sum_of_q = q_per_site.sum(axis=1)\n",
        "q_a = [2,5,6,8,10,13,14,16]\n",
        "q_d = [4,6,7,8,12,14,15,16]\n",
        "q_c = [3,5,7,8,11,13,15,16]\n",
        "q_g =  [9,10,11,12,13,14,15,16]\n",
        "TA = set(q_a).difference(set(q_g).union(set(q_c).union(set(q_d))))\n",
        "BA = set(q_g).union(set(q_c)).union(set(q_d)).difference(set(q_a))\n",
        "QA = set([i for i in range(1,17)]).difference(TA.union(BA))\n",
        "CTA = sum([sum_of_q.iloc[i-1] for i in TA])\n",
        "CBA = sum([sum_of_q.iloc[i-1] for i in BA])\n",
        "CQA = sum([sum_of_q.iloc[i-1] for i in QA])\n",
        "print(CTA*CBA-(CQA**2))\n"
      ]
    },
    {
      "cell_type": "code",
      "execution_count": null,
      "metadata": {
        "colab": {
          "base_uri": "https://localhost:8080/"
        },
        "id": "4vhCqwwsvb2S",
        "outputId": "4bce2bf2-9cae-4e2b-c1bf-96743d7a04a0"
      },
      "outputs": [
        {
          "name": "stdout",
          "output_type": "stream",
          "text": [
            "-5599793619.0\n"
          ]
        }
      ],
      "source": [
        "sum_of_q = q_per_site.sum(axis=1)\n",
        "q_a = [2,5,6,8,10,13,14,16]\n",
        "q_d = [4,6,7,8,12,14,15,16]\n",
        "q_c = [3,5,7,8,11,13,15,16]\n",
        "q_g =  [9,10,11,12,13,14,15,16]\n",
        "TA = set(q_g).union(set(q_a)).difference(set(q_d).union(set(q_c)))\n",
        "BA = set(q_c).union(set(q_d)).difference(set(q_a).union(set(q_g)))\n",
        "QA = set([i for i in range(1,17)]).difference(TA.union(BA))\n",
        "CTA = sum([sum_of_q.iloc[i-1] for i in TA])\n",
        "CBA = sum([sum_of_q.iloc[i-1] for i in BA])\n",
        "CQA = sum([sum_of_q.iloc[i-1] for i in QA])\n",
        "print(CTA*CBA-(CQA**2))\n"
      ]
    },
    {
      "cell_type": "code",
      "execution_count": null,
      "metadata": {
        "colab": {
          "base_uri": "https://localhost:8080/"
        },
        "id": "G5NzrbCivli6",
        "outputId": "cb2c64af-70a8-402a-dc65-9dcfe030628f"
      },
      "outputs": [
        {
          "name": "stdout",
          "output_type": "stream",
          "text": [
            "-495285025.0\n"
          ]
        }
      ],
      "source": [
        "sum_of_q = q_per_site.sum(axis=1)\n",
        "q_a = [2,5,6,8,10,13,14,16]\n",
        "q_d = [4,6,7,8,12,14,15,16]\n",
        "q_c = [3,5,7,8,11,13,15,16]\n",
        "q_g =  [9,10,11,12,13,14,15,16]\n",
        "TA = set(q_c).union(set(q_a).union(set(q_g))).difference(set(q_d))\n",
        "BA = set(q_d).difference(set(q_c).union(set(q_a).union(set(q_g))))\n",
        "QA = set([i for i in range(1,17)]).difference(TA.union(BA))\n",
        "CTA = sum([sum_of_q.iloc[i-1] for i in TA])\n",
        "CBA = sum([sum_of_q.iloc[i-1] for i in BA])\n",
        "CQA = sum([sum_of_q.iloc[i-1] for i in QA])\n",
        "print(CTA*CBA-(CQA**2))"
      ]
    },
    {
      "cell_type": "markdown",
      "metadata": {
        "id": "e_w1CHEhvver"
      },
      "source": [
        "Order: Genres, Country, Director, Actors\n",
        "\n"
      ]
    },
    {
      "cell_type": "code",
      "execution_count": null,
      "metadata": {
        "colab": {
          "base_uri": "https://localhost:8080/"
        },
        "id": "eL6wwkRNv1fa",
        "outputId": "cb07aff5-2eb4-4db7-8175-bf6c466c0c7d"
      },
      "outputs": [
        {
          "name": "stdout",
          "output_type": "stream",
          "text": [
            "-7635778743.0\n"
          ]
        }
      ],
      "source": [
        "sum_of_q = q_per_site.sum(axis=1)\n",
        "q_a = [2,5,6,8,10,13,14,16]\n",
        "q_d = [4,6,7,8,12,14,15,16]\n",
        "q_c = [3,5,7,8,11,13,15,16]\n",
        "q_g =  [9,10,11,12,13,14,15,16]\n",
        "TA = set(q_g).difference(set(q_a).union(set(q_c).union(set(q_d))))\n",
        "BA = set(q_a).union(set(q_c)).union(set(q_d)).difference(set(q_g))\n",
        "QA = set([i for i in range(1,17)]).difference(TA.union(BA))\n",
        "CTA = sum([sum_of_q.iloc[i-1] for i in TA])\n",
        "CBA = sum([sum_of_q.iloc[i-1] for i in BA])\n",
        "CQA = sum([sum_of_q.iloc[i-1] for i in QA])\n",
        "print(CTA*CBA-(CQA**2))"
      ]
    },
    {
      "cell_type": "code",
      "execution_count": null,
      "metadata": {
        "colab": {
          "base_uri": "https://localhost:8080/"
        },
        "id": "Jv78392pwAqy",
        "outputId": "d5f57b93-615a-4ad0-fb15-415c93d97966"
      },
      "outputs": [
        {
          "name": "stdout",
          "output_type": "stream",
          "text": [
            "-4389990049.0\n"
          ]
        }
      ],
      "source": [
        "sum_of_q = q_per_site.sum(axis=1)\n",
        "q_a = [2,5,6,8,10,13,14,16]\n",
        "q_d = [4,6,7,8,12,14,15,16]\n",
        "q_c = [3,5,7,8,11,13,15,16]\n",
        "q_g =  [9,10,11,12,13,14,15,16]\n",
        "TA = set(q_g).union(set(q_c)).difference(set(q_d).union(set(q_a)))\n",
        "BA = set(q_a).union(set(q_d)).difference(set(q_c).union(set(q_g)))\n",
        "QA = set([i for i in range(1,17)]).difference(TA.union(BA))\n",
        "CTA = sum([sum_of_q.iloc[i-1] for i in TA])\n",
        "CBA = sum([sum_of_q.iloc[i-1] for i in BA])\n",
        "CQA = sum([sum_of_q.iloc[i-1] for i in QA])\n",
        "print(CTA*CBA-(CQA**2))"
      ]
    },
    {
      "cell_type": "code",
      "execution_count": null,
      "metadata": {
        "colab": {
          "base_uri": "https://localhost:8080/"
        },
        "id": "mlnFIS5RwJb0",
        "outputId": "8ad9910e-68bd-4130-eaef-431c02ab8138"
      },
      "outputs": [
        {
          "name": "stdout",
          "output_type": "stream",
          "text": [
            "-3052010025.0\n"
          ]
        }
      ],
      "source": [
        "sum_of_q = q_per_site.sum(axis=1)\n",
        "q_a = [2,5,6,8,10,13,14,16]\n",
        "q_d = [4,6,7,8,12,14,15,16]\n",
        "q_c = [3,5,7,8,11,13,15,16]\n",
        "q_g =  [9,10,11,12,13,14,15,16]\n",
        "TA = set(q_c).union(set(q_d).union(set(q_g))).difference(set(q_a))\n",
        "BA = set(q_a).difference(set(q_c).union(set(q_d).union(set(q_g))))\n",
        "QA = set([i for i in range(1,17)]).difference(TA.union(BA))\n",
        "CTA = sum([sum_of_q.iloc[i-1] for i in TA])\n",
        "CBA = sum([sum_of_q.iloc[i-1] for i in BA])\n",
        "CQA = sum([sum_of_q.iloc[i-1] for i in QA])\n",
        "print(CTA*CBA-(CQA**2))"
      ]
    },
    {
      "cell_type": "markdown",
      "metadata": {
        "id": "ZgYrr-T2wRBK"
      },
      "source": [
        "Order: Country, Director, Actors, Genres\n",
        "\n"
      ]
    },
    {
      "cell_type": "code",
      "execution_count": null,
      "metadata": {
        "colab": {
          "base_uri": "https://localhost:8080/"
        },
        "id": "LgbmLKzIwV0q",
        "outputId": "fbc814fc-8a72-4450-97a2-626156244e4f"
      },
      "outputs": [
        {
          "name": "stdout",
          "output_type": "stream",
          "text": [
            "-3007283681.0\n"
          ]
        }
      ],
      "source": [
        "sum_of_q = q_per_site.sum(axis=1)\n",
        "q_a = [2,5,6,8,10,13,14,16]\n",
        "q_d = [4,6,7,8,12,14,15,16]\n",
        "q_c = [3,5,7,8,11,13,15,16]\n",
        "q_g =  [9,10,11,12,13,14,15,16]\n",
        "TA = set(q_c).difference(set(q_a).union(set(q_g).union(set(q_d))))\n",
        "BA = set(q_a).union(set(q_g)).union(set(q_d)).difference(set(q_c))\n",
        "QA = set([i for i in range(1,17)]).difference(TA.union(BA))\n",
        "CTA = sum([sum_of_q.iloc[i-1] for i in TA])\n",
        "CBA = sum([sum_of_q.iloc[i-1] for i in BA])\n",
        "CQA = sum([sum_of_q.iloc[i-1] for i in QA])\n",
        "print(CTA*CBA-(CQA**2))"
      ]
    },
    {
      "cell_type": "code",
      "execution_count": null,
      "metadata": {
        "colab": {
          "base_uri": "https://localhost:8080/"
        },
        "id": "Hm_OzHGzwXUC",
        "outputId": "02a42158-b0df-40e3-b565-3d0f06a71788"
      },
      "outputs": [
        {
          "name": "stdout",
          "output_type": "stream",
          "text": [
            "-5599793619.0\n"
          ]
        }
      ],
      "source": [
        "sum_of_q = q_per_site.sum(axis=1)\n",
        "q_a = [2,5,6,8,10,13,14,16]\n",
        "q_d = [4,6,7,8,12,14,15,16]\n",
        "q_c = [3,5,7,8,11,13,15,16]\n",
        "q_g =  [9,10,11,12,13,14,15,16]\n",
        "TA = set(q_d).union(set(q_c)).difference(set(q_g).union(set(q_a)))\n",
        "BA = set(q_a).union(set(q_g)).difference(set(q_c).union(set(q_d)))\n",
        "QA = set([i for i in range(1,17)]).difference(TA.union(BA))\n",
        "CTA = sum([sum_of_q.iloc[i-1] for i in TA])\n",
        "CBA = sum([sum_of_q.iloc[i-1] for i in BA])\n",
        "CQA = sum([sum_of_q.iloc[i-1] for i in QA])\n",
        "print(CTA*CBA-(CQA**2))"
      ]
    },
    {
      "cell_type": "code",
      "execution_count": null,
      "metadata": {
        "colab": {
          "base_uri": "https://localhost:8080/"
        },
        "id": "s3onpL--wYQa",
        "outputId": "62110d2d-4ab8-4baf-a84e-87942bb194ba"
      },
      "outputs": [
        {
          "name": "stdout",
          "output_type": "stream",
          "text": [
            "-7635778743.0\n"
          ]
        }
      ],
      "source": [
        "sum_of_q = q_per_site.sum(axis=1)\n",
        "q_a = [2,5,6,8,10,13,14,16]\n",
        "q_d = [4,6,7,8,12,14,15,16]\n",
        "q_c = [3,5,7,8,11,13,15,16]\n",
        "q_g =  [9,10,11,12,13,14,15,16]\n",
        "TA = set(q_c).union(set(q_d).union(set(q_a))).difference(set(q_g))\n",
        "BA = set(q_g).difference(set(q_c).union(set(q_d).union(set(q_a))))\n",
        "QA = set([i for i in range(1,17)]).difference(TA.union(BA))\n",
        "CTA = sum([sum_of_q.iloc[i-1] for i in TA])\n",
        "CBA = sum([sum_of_q.iloc[i-1] for i in BA])\n",
        "CQA = sum([sum_of_q.iloc[i-1] for i in QA])\n",
        "print(CTA*CBA-(CQA**2))"
      ]
    },
    {
      "cell_type": "code",
      "source": [
        "min(queries_df.select('realease_date').distinct().collect())"
      ],
      "metadata": {
        "id": "PNwMDW1lTCoX"
      },
      "execution_count": null,
      "outputs": []
    },
    {
      "cell_type": "code",
      "source": [
        "year_count = []\n",
        "for i in range(1990,2019):\n",
        "  rd = str(i)\n",
        "  temp_count =  users_q_df.select('*').where((f.col('realease_date') < rd) & (f.col('user_location') == 'Tel Aviv')).count()\n",
        "  year_count.append((rd,temp_count))\n",
        "print(year_count)"
      ],
      "metadata": {
        "colab": {
          "base_uri": "https://localhost:8080/"
        },
        "id": "9EuNL3ukMn7I",
        "outputId": "c01719e1-57e1-47fd-9888-134453aae4b3"
      },
      "execution_count": null,
      "outputs": [
        {
          "output_type": "stream",
          "name": "stdout",
          "text": [
            "[('1990', 0), ('1991', 0), ('1992', 0), ('1993', 0), ('1994', 0), ('1995', 0), ('1996', 0), ('1997', 0), ('1998', 0), ('1999', 0), ('2000', 0), ('2001', 0), ('2002', 0), ('2003', 0), ('2004', 0), ('2005', 0), ('2006', 0), ('2007', 0), ('2008', 0), ('2009', 0), ('2010', 0), ('2011', 199), ('2012', 410), ('2013', 3960), ('2014', 7490), ('2015', 11132), ('2016', 14771), ('2017', 18024), ('2018', 21377)]\n"
          ]
        }
      ]
    },
    {
      "cell_type": "code",
      "source": [
        "year_count1 = []\n",
        "for i in range(1990,2019):\n",
        "  rd = str(i)\n",
        "  temp_count =  users_q_df.select('*').where((f.col('realease_date') < rd) & (f.col('user_location') == 'Haifa')).count()\n",
        "  year_count1.append((rd,temp_count))\n",
        "print(year_count1)"
      ],
      "metadata": {
        "colab": {
          "base_uri": "https://localhost:8080/"
        },
        "id": "0TJVuhDUTfeV",
        "outputId": "76d92275-e888-4031-bdb5-780b98f9122e"
      },
      "execution_count": null,
      "outputs": [
        {
          "output_type": "stream",
          "name": "stdout",
          "text": [
            "[('1990', 0), ('1991', 0), ('1992', 0), ('1993', 0), ('1994', 0), ('1995', 0), ('1996', 0), ('1997', 0), ('1998', 0), ('1999', 0), ('2000', 0), ('2001', 0), ('2002', 0), ('2003', 0), ('2004', 0), ('2005', 0), ('2006', 0), ('2007', 0), ('2008', 0), ('2009', 0), ('2010', 0), ('2011', 166), ('2012', 345), ('2013', 3432), ('2014', 6523), ('2015', 9721), ('2016', 12816), ('2017', 15801), ('2018', 18709)]\n"
          ]
        }
      ]
    },
    {
      "cell_type": "code",
      "source": [
        "year_count2 = []\n",
        "for i in range(1990,2019):\n",
        "  rd = str(i)\n",
        "  temp_count =  users_q_df.select('*').where((f.col('realease_date') < rd) & (f.col('user_location') == 'Jerusalem')).count()\n",
        "  year_count2.append((rd,temp_count))\n",
        "print(year_count2)"
      ],
      "metadata": {
        "colab": {
          "base_uri": "https://localhost:8080/"
        },
        "id": "NISS6-geTmyN",
        "outputId": "81bd01fe-1158-45b4-cb1a-55890cab22c9"
      },
      "execution_count": null,
      "outputs": [
        {
          "output_type": "stream",
          "name": "stdout",
          "text": [
            "[('1990', 0), ('1991', 1097), ('1992', 2160), ('1993', 3245), ('1994', 4317), ('1995', 5383), ('1996', 6481), ('1997', 7500), ('1998', 8613), ('1999', 9664), ('2000', 10713), ('2001', 11734), ('2002', 12853), ('2003', 13949), ('2004', 14976), ('2005', 16040), ('2006', 17097), ('2007', 18181), ('2008', 19248), ('2009', 20305), ('2010', 21369), ('2011', 22395), ('2012', 23472), ('2013', 24502), ('2014', 25604), ('2015', 26649), ('2016', 27710), ('2017', 28775), ('2018', 29821)]\n"
          ]
        }
      ]
    },
    {
      "cell_type": "code",
      "source": [
        "year_count3 = []\n",
        "for i in range(1990,2019):\n",
        "  rd = str(i)\n",
        "  temp_count =  users_q_df.select('*').where((f.col('realease_date') < rd) & (f.col('user_location') == 'Eilat')).count()\n",
        "  year_count3.append((rd,temp_count))\n",
        "print(year_count3)"
      ],
      "metadata": {
        "colab": {
          "base_uri": "https://localhost:8080/"
        },
        "id": "SjXckRCnT9bF",
        "outputId": "96d0fb67-a680-4efa-cdc6-0315a8aab6af"
      },
      "execution_count": null,
      "outputs": [
        {
          "output_type": "stream",
          "name": "stdout",
          "text": [
            "[('1990', 0), ('1991', 606), ('1992', 1140), ('1993', 1700), ('1994', 2322), ('1995', 2960), ('1996', 3522), ('1997', 4121), ('1998', 4725), ('1999', 5307), ('2000', 5885), ('2001', 6497), ('2002', 7108), ('2003', 7712), ('2004', 8349), ('2005', 8922), ('2006', 9542), ('2007', 10139), ('2008', 10728), ('2009', 11307), ('2010', 11946), ('2011', 12542), ('2012', 13144), ('2013', 13748), ('2014', 14345), ('2015', 14958), ('2016', 15531), ('2017', 16097), ('2018', 16743)]\n"
          ]
        }
      ]
    },
    {
      "cell_type": "code",
      "source": [
        "year_count4 = []\n",
        "for i in range(1990,2019):\n",
        "  rd = str(i)\n",
        "  temp_count =  users_q_df.select('*').where((f.col('realease_date') < rd) & (f.col('user_location') == 'Kibuts Gesher')).count()\n",
        "  year_count4.append((rd,temp_count))\n",
        "print(year_count4)"
      ],
      "metadata": {
        "colab": {
          "base_uri": "https://localhost:8080/"
        },
        "id": "ttVw9lF7UBw4",
        "outputId": "d08556d0-cbfd-4629-e46c-bae1d773e71a"
      },
      "execution_count": null,
      "outputs": [
        {
          "output_type": "stream",
          "name": "stdout",
          "text": [
            "[('1990', 0), ('1991', 201), ('1992', 430), ('1993', 700), ('1994', 941), ('1995', 1161), ('1996', 1373), ('1997', 1618), ('1998', 1847), ('1999', 2088), ('2000', 2315), ('2001', 2567), ('2002', 2774), ('2003', 2990), ('2004', 3233), ('2005', 3447), ('2006', 3673), ('2007', 3904), ('2008', 4141), ('2009', 4380), ('2010', 4605), ('2011', 4824), ('2012', 5056), ('2013', 5288), ('2014', 5288), ('2015', 5288), ('2016', 5288), ('2017', 5288), ('2018', 5288)]\n"
          ]
        }
      ]
    },
    {
      "cell_type": "markdown",
      "source": [
        "Algorithm for VF deciding which attribute to seperate - between genres, actors and country.\n",
        "\n",
        "Step 1 : creating queries frequencies matrix"
      ],
      "metadata": {
        "id": "k9uYEgMrgY5Q"
      }
    },
    {
      "cell_type": "code",
      "execution_count": null,
      "metadata": {
        "id": "SeTm-ElngY5R"
      },
      "outputs": [],
      "source": [
        "func_df = queries_df.join(users_df, on='user_id').select('country', 'actors', 'genres', 'user_location')\n",
        "not_c = f.col('country')[0].isNull()\n",
        "c = f.col('country')[0].isNotNull()\n",
        "not_a = f.col('actors')[0].isNull()\n",
        "a = f.col('actors')[0].isNotNull()\n",
        "not_g = f.col('genres')[0].isNull()\n",
        "g = f.col('genres')[0].isNotNull()\n",
        "dict_q = {}\n",
        "q1 =  func_df.select('*').where(not_a & not_c & not_g).groupBy('user_location').count().collect()\n",
        "q2 = func_df.select('*').where(a & not_c & not_g).groupBy('user_location').count().collect()\n",
        "q3 =  func_df.select('*').where(not_a & c & not_g).groupBy('user_location').count().collect()\n",
        "q4 = func_df.select('*').where(not_a & not_c & g).groupBy('user_location').count().collect()\n",
        "q5 =  func_df.select('*').where(a & c & not_g).groupBy('user_location').count().collect()\n",
        "q6 = func_df.select('*').where(a & not_c & g).groupBy('user_location').count().collect()\n",
        "q7 =  func_df.select('*').where(not_a & c & g).groupBy('user_location').count().collect()\n",
        "q8 = func_df.select('*').where(a & c & g).groupBy('user_location').count().collect()"
      ]
    },
    {
      "cell_type": "markdown",
      "source": [
        "Creating the frequencies matrix, and matrix q_per_att describes which attributes every query access."
      ],
      "metadata": {
        "id": "gnUTWcTZgY5S"
      }
    },
    {
      "cell_type": "code",
      "execution_count": null,
      "metadata": {
        "id": "3ppJLW_PgY5T"
      },
      "outputs": [],
      "source": [
        "sites = ['Jerusalem', 'Haifa', 'Tel Aviv','Eilat','Kibuts Gesher']\n",
        "att = ['actors','country', 'genres']\n",
        "q_per_site = pd.DataFrame(columns = sites)\n",
        "q_per_att = pd.DataFrame(columns = att, index=range(1,9))\n",
        "index = 1\n",
        "for q in [q1,q2,q3,q4,q5,q6,q7,q8]:\n",
        "  temp_dict = {}\n",
        "  for site in sites:\n",
        "      temp_dict[site] = 0\n",
        "  for i in q:\n",
        "    temp_dict[i['user_location']] = i['count']\n",
        "  temp_df = pd.DataFrame(temp_dict, index=[index])\n",
        "  index += 1\n",
        "  q_per_site = pd.concat([q_per_site, temp_df])\n",
        "\n",
        "q_per_att.iloc[0] = [0,0,0]\n",
        "q_per_att.iloc[1] = [1,0,0]\n",
        "q_per_att.iloc[2] = [0,1,0]\n",
        "q_per_att.iloc[3] = [0,0,1]\n",
        "q_per_att.iloc[4] = [1,1,0]\n",
        "q_per_att.iloc[5] = [1,0,1]\n",
        "q_per_att.iloc[6] = [0,1,1]\n",
        "q_per_att.iloc[7] = [1,1,1]"
      ]
    },
    {
      "cell_type": "markdown",
      "source": [
        "Frequencies Matrix:"
      ],
      "metadata": {
        "id": "gI5kvTWugY5U"
      }
    },
    {
      "cell_type": "code",
      "execution_count": null,
      "metadata": {
        "colab": {
          "base_uri": "https://localhost:8080/",
          "height": 300
        },
        "outputId": "0110f679-45b2-42e8-9dfa-747dae5fe0ae",
        "id": "4fN8VkffgY5V"
      },
      "outputs": [
        {
          "output_type": "execute_result",
          "data": {
            "text/plain": [
              "  Jerusalem  Haifa Tel Aviv  Eilat Kibuts Gesher\n",
              "1         0      0        0      0             0\n",
              "2         0      0        0      0             0\n",
              "3         0      0        0      0            67\n",
              "4         0  10536    11928      0             0\n",
              "5         0      0        0      0            74\n",
              "6         0  10456    12151      0             0\n",
              "7      1518    336      378  17348          2590\n",
              "8     29355    324      382      0          2557"
            ],
            "text/html": [
              "\n",
              "  <div id=\"df-675fe6e4-a36b-44bd-9339-56578e21201f\">\n",
              "    <div class=\"colab-df-container\">\n",
              "      <div>\n",
              "<style scoped>\n",
              "    .dataframe tbody tr th:only-of-type {\n",
              "        vertical-align: middle;\n",
              "    }\n",
              "\n",
              "    .dataframe tbody tr th {\n",
              "        vertical-align: top;\n",
              "    }\n",
              "\n",
              "    .dataframe thead th {\n",
              "        text-align: right;\n",
              "    }\n",
              "</style>\n",
              "<table border=\"1\" class=\"dataframe\">\n",
              "  <thead>\n",
              "    <tr style=\"text-align: right;\">\n",
              "      <th></th>\n",
              "      <th>Jerusalem</th>\n",
              "      <th>Haifa</th>\n",
              "      <th>Tel Aviv</th>\n",
              "      <th>Eilat</th>\n",
              "      <th>Kibuts Gesher</th>\n",
              "    </tr>\n",
              "  </thead>\n",
              "  <tbody>\n",
              "    <tr>\n",
              "      <th>1</th>\n",
              "      <td>0</td>\n",
              "      <td>0</td>\n",
              "      <td>0</td>\n",
              "      <td>0</td>\n",
              "      <td>0</td>\n",
              "    </tr>\n",
              "    <tr>\n",
              "      <th>2</th>\n",
              "      <td>0</td>\n",
              "      <td>0</td>\n",
              "      <td>0</td>\n",
              "      <td>0</td>\n",
              "      <td>0</td>\n",
              "    </tr>\n",
              "    <tr>\n",
              "      <th>3</th>\n",
              "      <td>0</td>\n",
              "      <td>0</td>\n",
              "      <td>0</td>\n",
              "      <td>0</td>\n",
              "      <td>67</td>\n",
              "    </tr>\n",
              "    <tr>\n",
              "      <th>4</th>\n",
              "      <td>0</td>\n",
              "      <td>10536</td>\n",
              "      <td>11928</td>\n",
              "      <td>0</td>\n",
              "      <td>0</td>\n",
              "    </tr>\n",
              "    <tr>\n",
              "      <th>5</th>\n",
              "      <td>0</td>\n",
              "      <td>0</td>\n",
              "      <td>0</td>\n",
              "      <td>0</td>\n",
              "      <td>74</td>\n",
              "    </tr>\n",
              "    <tr>\n",
              "      <th>6</th>\n",
              "      <td>0</td>\n",
              "      <td>10456</td>\n",
              "      <td>12151</td>\n",
              "      <td>0</td>\n",
              "      <td>0</td>\n",
              "    </tr>\n",
              "    <tr>\n",
              "      <th>7</th>\n",
              "      <td>1518</td>\n",
              "      <td>336</td>\n",
              "      <td>378</td>\n",
              "      <td>17348</td>\n",
              "      <td>2590</td>\n",
              "    </tr>\n",
              "    <tr>\n",
              "      <th>8</th>\n",
              "      <td>29355</td>\n",
              "      <td>324</td>\n",
              "      <td>382</td>\n",
              "      <td>0</td>\n",
              "      <td>2557</td>\n",
              "    </tr>\n",
              "  </tbody>\n",
              "</table>\n",
              "</div>\n",
              "      <button class=\"colab-df-convert\" onclick=\"convertToInteractive('df-675fe6e4-a36b-44bd-9339-56578e21201f')\"\n",
              "              title=\"Convert this dataframe to an interactive table.\"\n",
              "              style=\"display:none;\">\n",
              "        \n",
              "  <svg xmlns=\"http://www.w3.org/2000/svg\" height=\"24px\"viewBox=\"0 0 24 24\"\n",
              "       width=\"24px\">\n",
              "    <path d=\"M0 0h24v24H0V0z\" fill=\"none\"/>\n",
              "    <path d=\"M18.56 5.44l.94 2.06.94-2.06 2.06-.94-2.06-.94-.94-2.06-.94 2.06-2.06.94zm-11 1L8.5 8.5l.94-2.06 2.06-.94-2.06-.94L8.5 2.5l-.94 2.06-2.06.94zm10 10l.94 2.06.94-2.06 2.06-.94-2.06-.94-.94-2.06-.94 2.06-2.06.94z\"/><path d=\"M17.41 7.96l-1.37-1.37c-.4-.4-.92-.59-1.43-.59-.52 0-1.04.2-1.43.59L10.3 9.45l-7.72 7.72c-.78.78-.78 2.05 0 2.83L4 21.41c.39.39.9.59 1.41.59.51 0 1.02-.2 1.41-.59l7.78-7.78 2.81-2.81c.8-.78.8-2.07 0-2.86zM5.41 20L4 18.59l7.72-7.72 1.47 1.35L5.41 20z\"/>\n",
              "  </svg>\n",
              "      </button>\n",
              "      \n",
              "  <style>\n",
              "    .colab-df-container {\n",
              "      display:flex;\n",
              "      flex-wrap:wrap;\n",
              "      gap: 12px;\n",
              "    }\n",
              "\n",
              "    .colab-df-convert {\n",
              "      background-color: #E8F0FE;\n",
              "      border: none;\n",
              "      border-radius: 50%;\n",
              "      cursor: pointer;\n",
              "      display: none;\n",
              "      fill: #1967D2;\n",
              "      height: 32px;\n",
              "      padding: 0 0 0 0;\n",
              "      width: 32px;\n",
              "    }\n",
              "\n",
              "    .colab-df-convert:hover {\n",
              "      background-color: #E2EBFA;\n",
              "      box-shadow: 0px 1px 2px rgba(60, 64, 67, 0.3), 0px 1px 3px 1px rgba(60, 64, 67, 0.15);\n",
              "      fill: #174EA6;\n",
              "    }\n",
              "\n",
              "    [theme=dark] .colab-df-convert {\n",
              "      background-color: #3B4455;\n",
              "      fill: #D2E3FC;\n",
              "    }\n",
              "\n",
              "    [theme=dark] .colab-df-convert:hover {\n",
              "      background-color: #434B5C;\n",
              "      box-shadow: 0px 1px 3px 1px rgba(0, 0, 0, 0.15);\n",
              "      filter: drop-shadow(0px 1px 2px rgba(0, 0, 0, 0.3));\n",
              "      fill: #FFFFFF;\n",
              "    }\n",
              "  </style>\n",
              "\n",
              "      <script>\n",
              "        const buttonEl =\n",
              "          document.querySelector('#df-675fe6e4-a36b-44bd-9339-56578e21201f button.colab-df-convert');\n",
              "        buttonEl.style.display =\n",
              "          google.colab.kernel.accessAllowed ? 'block' : 'none';\n",
              "\n",
              "        async function convertToInteractive(key) {\n",
              "          const element = document.querySelector('#df-675fe6e4-a36b-44bd-9339-56578e21201f');\n",
              "          const dataTable =\n",
              "            await google.colab.kernel.invokeFunction('convertToInteractive',\n",
              "                                                     [key], {});\n",
              "          if (!dataTable) return;\n",
              "\n",
              "          const docLinkHtml = 'Like what you see? Visit the ' +\n",
              "            '<a target=\"_blank\" href=https://colab.research.google.com/notebooks/data_table.ipynb>data table notebook</a>'\n",
              "            + ' to learn more about interactive tables.';\n",
              "          element.innerHTML = '';\n",
              "          dataTable['output_type'] = 'display_data';\n",
              "          await google.colab.output.renderOutput(dataTable, element);\n",
              "          const docLink = document.createElement('div');\n",
              "          docLink.innerHTML = docLinkHtml;\n",
              "          element.appendChild(docLink);\n",
              "        }\n",
              "      </script>\n",
              "    </div>\n",
              "  </div>\n",
              "  "
            ]
          },
          "metadata": {},
          "execution_count": 11
        }
      ],
      "source": [
        "q_per_site"
      ]
    },
    {
      "cell_type": "markdown",
      "metadata": {
        "id": "mL6zQJeagY5W"
      },
      "source": [
        "Attributes accessed Matrix:\n",
        "\n",
        "** Note we assume accessibility of every query to every attribute is 1."
      ]
    },
    {
      "cell_type": "code",
      "execution_count": null,
      "metadata": {
        "colab": {
          "base_uri": "https://localhost:8080/",
          "height": 300
        },
        "outputId": "b5f80c29-5395-44d6-dd32-f58ac41c953e",
        "id": "xaBB36cHgY5W"
      },
      "outputs": [
        {
          "output_type": "execute_result",
          "data": {
            "text/plain": [
              "  actors country genres\n",
              "1      0       0      0\n",
              "2      1       0      0\n",
              "3      0       1      0\n",
              "4      0       0      1\n",
              "5      1       1      0\n",
              "6      1       0      1\n",
              "7      0       1      1\n",
              "8      1       1      1"
            ],
            "text/html": [
              "\n",
              "  <div id=\"df-9cf85d9f-5fa4-43ea-9da7-a2d9475f9256\">\n",
              "    <div class=\"colab-df-container\">\n",
              "      <div>\n",
              "<style scoped>\n",
              "    .dataframe tbody tr th:only-of-type {\n",
              "        vertical-align: middle;\n",
              "    }\n",
              "\n",
              "    .dataframe tbody tr th {\n",
              "        vertical-align: top;\n",
              "    }\n",
              "\n",
              "    .dataframe thead th {\n",
              "        text-align: right;\n",
              "    }\n",
              "</style>\n",
              "<table border=\"1\" class=\"dataframe\">\n",
              "  <thead>\n",
              "    <tr style=\"text-align: right;\">\n",
              "      <th></th>\n",
              "      <th>actors</th>\n",
              "      <th>country</th>\n",
              "      <th>genres</th>\n",
              "    </tr>\n",
              "  </thead>\n",
              "  <tbody>\n",
              "    <tr>\n",
              "      <th>1</th>\n",
              "      <td>0</td>\n",
              "      <td>0</td>\n",
              "      <td>0</td>\n",
              "    </tr>\n",
              "    <tr>\n",
              "      <th>2</th>\n",
              "      <td>1</td>\n",
              "      <td>0</td>\n",
              "      <td>0</td>\n",
              "    </tr>\n",
              "    <tr>\n",
              "      <th>3</th>\n",
              "      <td>0</td>\n",
              "      <td>1</td>\n",
              "      <td>0</td>\n",
              "    </tr>\n",
              "    <tr>\n",
              "      <th>4</th>\n",
              "      <td>0</td>\n",
              "      <td>0</td>\n",
              "      <td>1</td>\n",
              "    </tr>\n",
              "    <tr>\n",
              "      <th>5</th>\n",
              "      <td>1</td>\n",
              "      <td>1</td>\n",
              "      <td>0</td>\n",
              "    </tr>\n",
              "    <tr>\n",
              "      <th>6</th>\n",
              "      <td>1</td>\n",
              "      <td>0</td>\n",
              "      <td>1</td>\n",
              "    </tr>\n",
              "    <tr>\n",
              "      <th>7</th>\n",
              "      <td>0</td>\n",
              "      <td>1</td>\n",
              "      <td>1</td>\n",
              "    </tr>\n",
              "    <tr>\n",
              "      <th>8</th>\n",
              "      <td>1</td>\n",
              "      <td>1</td>\n",
              "      <td>1</td>\n",
              "    </tr>\n",
              "  </tbody>\n",
              "</table>\n",
              "</div>\n",
              "      <button class=\"colab-df-convert\" onclick=\"convertToInteractive('df-9cf85d9f-5fa4-43ea-9da7-a2d9475f9256')\"\n",
              "              title=\"Convert this dataframe to an interactive table.\"\n",
              "              style=\"display:none;\">\n",
              "        \n",
              "  <svg xmlns=\"http://www.w3.org/2000/svg\" height=\"24px\"viewBox=\"0 0 24 24\"\n",
              "       width=\"24px\">\n",
              "    <path d=\"M0 0h24v24H0V0z\" fill=\"none\"/>\n",
              "    <path d=\"M18.56 5.44l.94 2.06.94-2.06 2.06-.94-2.06-.94-.94-2.06-.94 2.06-2.06.94zm-11 1L8.5 8.5l.94-2.06 2.06-.94-2.06-.94L8.5 2.5l-.94 2.06-2.06.94zm10 10l.94 2.06.94-2.06 2.06-.94-2.06-.94-.94-2.06-.94 2.06-2.06.94z\"/><path d=\"M17.41 7.96l-1.37-1.37c-.4-.4-.92-.59-1.43-.59-.52 0-1.04.2-1.43.59L10.3 9.45l-7.72 7.72c-.78.78-.78 2.05 0 2.83L4 21.41c.39.39.9.59 1.41.59.51 0 1.02-.2 1.41-.59l7.78-7.78 2.81-2.81c.8-.78.8-2.07 0-2.86zM5.41 20L4 18.59l7.72-7.72 1.47 1.35L5.41 20z\"/>\n",
              "  </svg>\n",
              "      </button>\n",
              "      \n",
              "  <style>\n",
              "    .colab-df-container {\n",
              "      display:flex;\n",
              "      flex-wrap:wrap;\n",
              "      gap: 12px;\n",
              "    }\n",
              "\n",
              "    .colab-df-convert {\n",
              "      background-color: #E8F0FE;\n",
              "      border: none;\n",
              "      border-radius: 50%;\n",
              "      cursor: pointer;\n",
              "      display: none;\n",
              "      fill: #1967D2;\n",
              "      height: 32px;\n",
              "      padding: 0 0 0 0;\n",
              "      width: 32px;\n",
              "    }\n",
              "\n",
              "    .colab-df-convert:hover {\n",
              "      background-color: #E2EBFA;\n",
              "      box-shadow: 0px 1px 2px rgba(60, 64, 67, 0.3), 0px 1px 3px 1px rgba(60, 64, 67, 0.15);\n",
              "      fill: #174EA6;\n",
              "    }\n",
              "\n",
              "    [theme=dark] .colab-df-convert {\n",
              "      background-color: #3B4455;\n",
              "      fill: #D2E3FC;\n",
              "    }\n",
              "\n",
              "    [theme=dark] .colab-df-convert:hover {\n",
              "      background-color: #434B5C;\n",
              "      box-shadow: 0px 1px 3px 1px rgba(0, 0, 0, 0.15);\n",
              "      filter: drop-shadow(0px 1px 2px rgba(0, 0, 0, 0.3));\n",
              "      fill: #FFFFFF;\n",
              "    }\n",
              "  </style>\n",
              "\n",
              "      <script>\n",
              "        const buttonEl =\n",
              "          document.querySelector('#df-9cf85d9f-5fa4-43ea-9da7-a2d9475f9256 button.colab-df-convert');\n",
              "        buttonEl.style.display =\n",
              "          google.colab.kernel.accessAllowed ? 'block' : 'none';\n",
              "\n",
              "        async function convertToInteractive(key) {\n",
              "          const element = document.querySelector('#df-9cf85d9f-5fa4-43ea-9da7-a2d9475f9256');\n",
              "          const dataTable =\n",
              "            await google.colab.kernel.invokeFunction('convertToInteractive',\n",
              "                                                     [key], {});\n",
              "          if (!dataTable) return;\n",
              "\n",
              "          const docLinkHtml = 'Like what you see? Visit the ' +\n",
              "            '<a target=\"_blank\" href=https://colab.research.google.com/notebooks/data_table.ipynb>data table notebook</a>'\n",
              "            + ' to learn more about interactive tables.';\n",
              "          element.innerHTML = '';\n",
              "          dataTable['output_type'] = 'display_data';\n",
              "          await google.colab.output.renderOutput(dataTable, element);\n",
              "          const docLink = document.createElement('div');\n",
              "          docLink.innerHTML = docLinkHtml;\n",
              "          element.appendChild(docLink);\n",
              "        }\n",
              "      </script>\n",
              "    </div>\n",
              "  </div>\n",
              "  "
            ]
          },
          "metadata": {},
          "execution_count": 12
        }
      ],
      "source": [
        "q_per_att"
      ]
    },
    {
      "cell_type": "markdown",
      "metadata": {
        "id": "dWxR4wyogY5X"
      },
      "source": [
        "Step 2: Compute AAM matrix.\n",
        "\n",
        "Defining local function for calculating affinity."
      ]
    },
    {
      "cell_type": "code",
      "execution_count": null,
      "metadata": {
        "id": "dGwOiw22gY5Y"
      },
      "outputs": [],
      "source": [
        "def affinity(i,j):\n",
        "  sum1 = 0\n",
        "  for k in range(8):\n",
        "    if q_per_att.iloc[k][i] == 1 and q_per_att.iloc[k][j] == 1:\n",
        "      sum1 += sum(q_per_site.iloc[k])\n",
        "  return sum1"
      ]
    },
    {
      "cell_type": "markdown",
      "source": [
        "Compute AAM Matrix:"
      ],
      "metadata": {
        "id": "agH_ORKKgY5Y"
      }
    },
    {
      "cell_type": "code",
      "execution_count": null,
      "metadata": {
        "id": "J9PbbYtygY5Z"
      },
      "outputs": [],
      "source": [
        "import numpy as np\n",
        "AAM = np.zeros((3,3))\n",
        "for i, att in enumerate(['actors','country', 'genres']):\n",
        "  for j, att2 in enumerate(['actors','country', 'genres']):\n",
        "      AAM[i][j] = affinity(i,j)\n"
      ]
    },
    {
      "cell_type": "markdown",
      "source": [
        "The AAM matrix:"
      ],
      "metadata": {
        "id": "5A0Og_DDgY5Z"
      }
    },
    {
      "cell_type": "code",
      "execution_count": null,
      "metadata": {
        "colab": {
          "base_uri": "https://localhost:8080/"
        },
        "outputId": "5a262a3f-77d2-498d-f4be-11d57a88edca",
        "id": "WzdjYr27gY5a"
      },
      "outputs": [
        {
          "output_type": "execute_result",
          "data": {
            "text/plain": [
              "array([[55299., 32692., 55225.],\n",
              "       [32692., 54929., 54788.],\n",
              "       [55225., 54788., 99859.]])"
            ]
          },
          "metadata": {},
          "execution_count": 16
        }
      ],
      "source": [
        "AAM"
      ]
    },
    {
      "cell_type": "markdown",
      "source": [
        "Compute and change order of AAM using Bond Energy Algorithm."
      ],
      "metadata": {
        "id": "ZtX7bh2lgY5a"
      }
    },
    {
      "cell_type": "code",
      "execution_count": null,
      "metadata": {
        "colab": {
          "base_uri": "https://localhost:8080/"
        },
        "outputId": "9b61a600-4b94-48ab-e948-1f2fb84b4175",
        "id": "CQPf33qYgY5b"
      },
      "outputs": [
        {
          "output_type": "stream",
          "name": "stdout",
          "text": [
            "0 2 1 3\n",
            "1 2 2 3\n",
            "2 2 3 3\n",
            "[[55299. 55225. 32692.]\n",
            " [32692. 54788. 54929.]\n",
            " [55225. 99859. 54788.]]\n"
          ]
        }
      ],
      "source": [
        "import numpy as np\n",
        "query_attr1 = q_per_att.to_numpy()\n",
        "query_access1 = q_per_site.to_numpy()\n",
        "query_attr = q_per_att.to_numpy()\n",
        "query_access = q_per_site.to_numpy()\n",
        "aa_matrix = np.zeros((3,3))\n",
        "\n",
        "def position_checker(positions):\n",
        "  aa_elem = []\n",
        "  for j in positions[0]:\n",
        "    aa_elem.append(np.sum(query_access[j:j+1, :]))\n",
        "  aa_matrix[i,k] = sum(aa_elem)\n",
        "\n",
        "def dot_prod(vec_a, vec_b):\n",
        "  return np.dot(vec_a.flatten(), vec_b.flatten())\n",
        "\n",
        "## AA_MARIX GENERATION\n",
        "for i in range(3):\n",
        "  for k in range(3):\n",
        "    if i == k:\n",
        "      attr = query_attr[:, k:k+1].flatten()\n",
        "      positions = np.where(attr == 1)\n",
        "      position_checker(positions)\n",
        "    else:\n",
        "      attr_i = query_attr[:, i:i+1].flatten()\n",
        "      attr_k = query_attr[:, k:k+1].flatten()\n",
        "      positions = np.where((attr_i == 1) & (attr_k == 1))\n",
        "      position_checker(positions)\n",
        "\n",
        "# BOND ENERGY ALGORITHM - GET INITIAL CC_MATRIX\n",
        "cc_matrix = aa_matrix[:, :2]\n",
        "cc_matrix = np.append(np.zeros((3,1)), cc_matrix, axis=1)\n",
        "cc_matrix = np.append(cc_matrix,np.zeros((3,1)), axis=1)\n",
        "\n",
        "# BOND ENERGY ALGORITHM - CC_MATRIX GENERATION\n",
        "for k in range(2, len(aa_matrix)):\n",
        "  i, j = 0, 1\n",
        "  get_values = []\n",
        "  while j < cc_matrix.shape[1]:\n",
        "    print(i,k,j, len(cc_matrix))\n",
        "    get_values.append(2 * dot_prod(cc_matrix[:, i:i+1], aa_matrix[:, k:k+1]) + \n",
        "                      2 * dot_prod(aa_matrix[:, k:k+1], cc_matrix[:, j:j+1]) - \n",
        "                      2 * dot_prod(cc_matrix[:, i:i+1], cc_matrix[:, j:j+1]))  \n",
        "    i = j\n",
        "    j+=1\n",
        "  pos = np.argmax(get_values) + 1\n",
        "  cc_matrix = np.insert(cc_matrix, pos, aa_matrix[k:k+1], axis=1)\n",
        "\n",
        "# BOND ENERGY ALGORITHM - REMOVES ZEROS COLUMNS\n",
        "cc_matrix = np.delete(cc_matrix, 0, axis=1)\n",
        "cc_matrix = np.delete(cc_matrix, cc_matrix.shape[1]-1, axis=1)\n",
        "\n",
        "print(cc_matrix)"
      ]
    },
    {
      "cell_type": "markdown",
      "source": [
        "Transform CC matrix to being symmetrical"
      ],
      "metadata": {
        "id": "dCPXFgtvgY5c"
      }
    },
    {
      "cell_type": "code",
      "execution_count": null,
      "metadata": {
        "id": "BTL0pLXQgY5d"
      },
      "outputs": [],
      "source": [
        "for i in range(cc_matrix.shape[1]):\n",
        "  for j in range(i):\n",
        "    cc_matrix[j,i] = cc_matrix[i,j] "
      ]
    },
    {
      "cell_type": "markdown",
      "source": [
        "The CC Matrix:"
      ],
      "metadata": {
        "id": "vPTcfCBegY5d"
      }
    },
    {
      "cell_type": "code",
      "execution_count": null,
      "metadata": {
        "colab": {
          "base_uri": "https://localhost:8080/"
        },
        "outputId": "c98a61b5-caa2-4a2c-8ea0-9b7a93fda92e",
        "id": "7asAjugSgY5e"
      },
      "outputs": [
        {
          "output_type": "execute_result",
          "data": {
            "text/plain": [
              "array([[55299., 55225., 32692.],\n",
              "       [32692., 54788., 54929.],\n",
              "       [55225., 99859., 54788.]])"
            ]
          },
          "metadata": {},
          "execution_count": 19
        }
      ],
      "source": [
        "cc_matrix"
      ]
    },
    {
      "cell_type": "markdown",
      "metadata": {
        "id": "Bi9-wV1DgY5f"
      },
      "source": [
        "So The order by attributes in both matrixes are:\n",
        "\n",
        "AAM : ['actors','country', 'genres']\n",
        "\n",
        "CC_MATRIX = ['actors', 'genres','country']\n",
        "\n",
        "- Configuring indexes of queries. for example: q_a are all queries accessing actors.\n",
        "\n",
        "- We can now compute the groups TA,BA,QA (we changed the names instead of TQ,BQ,OQ).\n",
        "\n",
        "- sum_of_q = sum of every query asked. we have the indexes in the groups TA,BA,QA, and then we can compute CTA,CBA,CQA.\n",
        "\n",
        "- lastly we print the value  CTA*CBA - CQA^2 and choose the maximal.\n",
        "\n",
        "- We then change the order of columns until we find the best split."
      ]
    },
    {
      "cell_type": "markdown",
      "source": [
        "Order = Actors, Genres, Country"
      ],
      "metadata": {
        "id": "pxtt51z7jlHI"
      }
    },
    {
      "cell_type": "code",
      "source": [
        "q_per_site.sum(axis=1)"
      ],
      "metadata": {
        "colab": {
          "base_uri": "https://localhost:8080/"
        },
        "id": "d54xzHUSo5Me",
        "outputId": "afd1ea75-1a63-4d1f-c56a-f17742918b26"
      },
      "execution_count": null,
      "outputs": [
        {
          "output_type": "execute_result",
          "data": {
            "text/plain": [
              "1        0.0\n",
              "2        0.0\n",
              "3       67.0\n",
              "4    22464.0\n",
              "5       74.0\n",
              "6    22607.0\n",
              "7    22170.0\n",
              "8    32618.0\n",
              "dtype: float64"
            ]
          },
          "metadata": {},
          "execution_count": 28
        }
      ]
    },
    {
      "cell_type": "code",
      "source": [
        "sum_of_q = q_per_site.sum(axis=1)\n",
        "q_a = [2,5,6,8]\n",
        "q_c = [3,5,7,8]\n",
        "q_g =  [4,6,7,8]\n",
        "TA = set(q_a).difference(set(q_c).union(set(q_g)))\n",
        "BA = set(q_c).union(set(q_g)).difference(set(q_a))\n",
        "QA = set([i for i in range(1,9)]).difference(TA.union(BA))\n",
        "CTA = sum([sum_of_q.iloc[i-1] for i in TA])\n",
        "CBA = sum([sum_of_q.iloc[i-1] for i in BA])\n",
        "CQA = sum([sum_of_q.iloc[i-1] for i in QA])\n",
        "print(CTA*CBA-(CQA**2))"
      ],
      "metadata": {
        "colab": {
          "base_uri": "https://localhost:8080/"
        },
        "id": "Ff4w0WKYjPhf",
        "outputId": "8193f5e6-7824-46d0-d8b3-e61cedae35ff"
      },
      "execution_count": null,
      "outputs": [
        {
          "output_type": "stream",
          "name": "stdout",
          "text": [
            "-3057979401.0\n"
          ]
        }
      ]
    },
    {
      "cell_type": "code",
      "source": [
        "sum_of_q = q_per_site.sum(axis=1)\n",
        "q_a = [2,5,6,8]\n",
        "q_c = [3,5,7,8]\n",
        "q_g =  [4,6,7,8]\n",
        "TA = set(q_a).union(set(q_c)).difference(set(q_g))\n",
        "BA = set(q_g).difference(set(q_a).union(set(q_c)))\n",
        "QA = set([i for i in range(1,9)]).difference(TA.union(BA))\n",
        "CTA = sum([sum_of_q.iloc[i-1] for i in TA])\n",
        "CBA = sum([sum_of_q.iloc[i-1] for i in BA])\n",
        "CQA = sum([sum_of_q.iloc[i-1] for i in QA])\n",
        "print(CTA*CBA-(CQA**2))"
      ],
      "metadata": {
        "colab": {
          "base_uri": "https://localhost:8080/"
        },
        "id": "LxgeXDMtm4Bz",
        "outputId": "e853272c-d9a4-404a-c166-d3ee4e2e7c4e"
      },
      "execution_count": null,
      "outputs": [
        {
          "output_type": "stream",
          "name": "stdout",
          "text": [
            "-5986818601.0\n"
          ]
        }
      ]
    },
    {
      "cell_type": "markdown",
      "source": [
        "Order = Country, Actors, Genres"
      ],
      "metadata": {
        "id": "EydxHBkjnJeD"
      }
    },
    {
      "cell_type": "code",
      "source": [
        "sum_of_q = q_per_site.sum(axis=1)\n",
        "q_a = [2,5,6,8]\n",
        "q_c = [3,5,7,8]\n",
        "q_g =  [4,6,7,8]\n",
        "TA = set(q_c).difference(set(q_a).union(set(q_g)))\n",
        "BA = set(q_g).union(set(q_a)).difference(set(q_c))\n",
        "QA = set([i for i in range(1,9)]).difference(TA.union(BA))\n",
        "CTA = sum([sum_of_q.iloc[i-1] for i in TA])\n",
        "CBA = sum([sum_of_q.iloc[i-1] for i in BA])\n",
        "CQA = sum([sum_of_q.iloc[i-1] for i in QA])\n",
        "print(CTA*CBA-(CQA**2))"
      ],
      "metadata": {
        "colab": {
          "base_uri": "https://localhost:8080/"
        },
        "id": "fWRN0YKWm4l8",
        "outputId": "0ae9c2e8-c7a1-4b4f-bd24-f0047fcaf5ac"
      },
      "execution_count": null,
      "outputs": [
        {
          "output_type": "stream",
          "name": "stdout",
          "text": [
            "-3006819287.0\n"
          ]
        }
      ]
    },
    {
      "cell_type": "code",
      "source": [
        "sum_of_q = q_per_site.sum(axis=1)\n",
        "q_a = [2,5,6,8]\n",
        "q_c = [3,5,7,8]\n",
        "q_g =  [4,6,7,8]\n",
        "TA = set(q_c).union(set(q_a)).difference(set(q_g))\n",
        "BA = set(q_g).difference(set(q_c).union(set(q_a)))\n",
        "QA = set([i for i in range(1,9)]).difference(TA.union(BA))\n",
        "CTA = sum([sum_of_q.iloc[i-1] for i in TA])\n",
        "CBA = sum([sum_of_q.iloc[i-1] for i in BA])\n",
        "CQA = sum([sum_of_q.iloc[i-1] for i in QA])\n",
        "print(CTA*CBA-(CQA**2))"
      ],
      "metadata": {
        "colab": {
          "base_uri": "https://localhost:8080/"
        },
        "id": "EOcneyPmnSvt",
        "outputId": "860324fb-88f1-4cc7-d3a1-db7624721914"
      },
      "execution_count": null,
      "outputs": [
        {
          "output_type": "stream",
          "name": "stdout",
          "text": [
            "-5986818601.0\n"
          ]
        }
      ]
    },
    {
      "cell_type": "markdown",
      "source": [
        "Order = Genres,Country, Actors"
      ],
      "metadata": {
        "id": "zl_NyMxmoBpp"
      }
    },
    {
      "cell_type": "code",
      "source": [
        "sum_of_q = q_per_site.sum(axis=1)\n",
        "q_a = [2,5,6,8]\n",
        "q_c = [3,5,7,8]\n",
        "q_g =  [4,6,7,8]\n",
        "TA = set(q_g).difference(set(q_c).union(set(q_a)))\n",
        "BA = set(q_c).union(set(q_a)).difference(set(q_g))\n",
        "QA = set([i for i in range(1,9)]).difference(TA.union(BA))\n",
        "CTA = sum([sum_of_q.iloc[i-1] for i in TA])\n",
        "CBA = sum([sum_of_q.iloc[i-1] for i in BA])\n",
        "CQA = sum([sum_of_q.iloc[i-1] for i in QA])\n",
        "print(CTA*CBA-(CQA**2))"
      ],
      "metadata": {
        "colab": {
          "base_uri": "https://localhost:8080/"
        },
        "outputId": "9ec0d69b-90bc-42a9-cd94-792c32b0d373",
        "id": "6jydd94Cn8r0"
      },
      "execution_count": null,
      "outputs": [
        {
          "output_type": "stream",
          "name": "stdout",
          "text": [
            "-5986818601.0\n"
          ]
        }
      ]
    },
    {
      "cell_type": "code",
      "source": [
        "sum_of_q = q_per_site.sum(axis=1)\n",
        "q_a = [2,5,6,8]\n",
        "q_c = [3,5,7,8]\n",
        "q_g =  [4,6,7,8]\n",
        "TA = set(q_g).union(set(q_c)).difference(set(q_a))\n",
        "BA = set(q_a).difference(set(q_c).union(set(q_g)))\n",
        "QA = set([i for i in range(1,9)]).difference(TA.union(BA))\n",
        "CTA = sum([sum_of_q.iloc[i-1] for i in TA])\n",
        "CBA = sum([sum_of_q.iloc[i-1] for i in BA])\n",
        "CQA = sum([sum_of_q.iloc[i-1] for i in QA])\n",
        "print(CTA*CBA-(CQA**2))"
      ],
      "metadata": {
        "colab": {
          "base_uri": "https://localhost:8080/"
        },
        "outputId": "2c26a01f-31be-41e6-cbf5-25f3fd9a014e",
        "id": "3JO2i-pTn8sQ"
      },
      "execution_count": null,
      "outputs": [
        {
          "output_type": "stream",
          "name": "stdout",
          "text": [
            "-3057979401.0\n"
          ]
        }
      ]
    }
  ],
  "metadata": {
    "colab": {
      "collapsed_sections": [],
      "provenance": []
    },
    "kernelspec": {
      "display_name": "Python 3",
      "name": "python3"
    },
    "language_info": {
      "name": "python"
    }
  },
  "nbformat": 4,
  "nbformat_minor": 0
}